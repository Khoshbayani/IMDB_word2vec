{
 "cells": [
  {
   "cell_type": "raw",
   "source": [
    "import libraries"
   ],
   "metadata": {
    "collapsed": false
   },
   "id": "89907a613d6a7c75"
  },
  {
   "cell_type": "code",
   "execution_count": 96,
   "outputs": [],
   "source": [
    "import pandas as pd\n",
    "import numpy as np\n",
    "from nltk.tokenize import word_tokenize\n",
    "from nltk.corpus import stopwords\n",
    "from nltk.stem.porter import PorterStemmer\n",
    "import string\n",
    "from bs4 import BeautifulSoup\n",
    "from sklearn.model_selection import train_test_split"
   ],
   "metadata": {
    "collapsed": false,
    "ExecuteTime": {
     "end_time": "2024-04-22T14:58:25.771113400Z",
     "start_time": "2024-04-22T14:58:25.459Z"
    }
   },
   "id": "b856316ebae7fe68"
  },
  {
   "cell_type": "code",
   "execution_count": 97,
   "outputs": [],
   "source": [
    "# read data\n",
    "data = pd.read_parquet(\"test-00000-of-00001.parquet\")[:20]"
   ],
   "metadata": {
    "collapsed": false,
    "ExecuteTime": {
     "end_time": "2024-04-22T14:58:25.771113400Z",
     "start_time": "2024-04-22T14:58:25.470516200Z"
    }
   },
   "id": "aec01f623eea3023"
  },
  {
   "cell_type": "code",
   "execution_count": 98,
   "outputs": [
    {
     "data": {
      "text/plain": "                                                text  label\n0  I love sci-fi and am willing to put up with a ...      0\n1  Worth the entertainment value of a rental, esp...      0\n2  its a totally average film with a few semi-alr...      0\n3  STAR RATING: ***** Saturday Night **** Friday ...      0\n4  First off let me say, If you haven't enjoyed a...      0",
      "text/html": "<div>\n<style scoped>\n    .dataframe tbody tr th:only-of-type {\n        vertical-align: middle;\n    }\n\n    .dataframe tbody tr th {\n        vertical-align: top;\n    }\n\n    .dataframe thead th {\n        text-align: right;\n    }\n</style>\n<table border=\"1\" class=\"dataframe\">\n  <thead>\n    <tr style=\"text-align: right;\">\n      <th></th>\n      <th>text</th>\n      <th>label</th>\n    </tr>\n  </thead>\n  <tbody>\n    <tr>\n      <th>0</th>\n      <td>I love sci-fi and am willing to put up with a ...</td>\n      <td>0</td>\n    </tr>\n    <tr>\n      <th>1</th>\n      <td>Worth the entertainment value of a rental, esp...</td>\n      <td>0</td>\n    </tr>\n    <tr>\n      <th>2</th>\n      <td>its a totally average film with a few semi-alr...</td>\n      <td>0</td>\n    </tr>\n    <tr>\n      <th>3</th>\n      <td>STAR RATING: ***** Saturday Night **** Friday ...</td>\n      <td>0</td>\n    </tr>\n    <tr>\n      <th>4</th>\n      <td>First off let me say, If you haven't enjoyed a...</td>\n      <td>0</td>\n    </tr>\n  </tbody>\n</table>\n</div>"
     },
     "execution_count": 98,
     "metadata": {},
     "output_type": "execute_result"
    }
   ],
   "source": [
    "# see head of data\n",
    "data.head()"
   ],
   "metadata": {
    "collapsed": false,
    "ExecuteTime": {
     "end_time": "2024-04-22T14:58:25.771113400Z",
     "start_time": "2024-04-22T14:58:25.534048300Z"
    }
   },
   "id": "3f4dfa472d07dd57"
  },
  {
   "cell_type": "code",
   "execution_count": 99,
   "outputs": [
    {
     "data": {
      "text/plain": "text     0\nlabel    0\ndtype: int64"
     },
     "execution_count": 99,
     "metadata": {},
     "output_type": "execute_result"
    }
   ],
   "source": [
    "# As we can see there is no nan value in our dataset\n",
    "data.isna().sum()"
   ],
   "metadata": {
    "collapsed": false,
    "ExecuteTime": {
     "end_time": "2024-04-22T14:58:25.772114300Z",
     "start_time": "2024-04-22T14:58:25.549321200Z"
    }
   },
   "id": "8ad41196336e7a2a"
  },
  {
   "cell_type": "code",
   "execution_count": 100,
   "outputs": [
    {
     "data": {
      "text/plain": "(20, 2)"
     },
     "execution_count": 100,
     "metadata": {},
     "output_type": "execute_result"
    }
   ],
   "source": [
    "# the dataset has 50000 rows and 2 columns\n",
    "data.shape"
   ],
   "metadata": {
    "collapsed": false,
    "ExecuteTime": {
     "end_time": "2024-04-22T14:58:25.772114300Z",
     "start_time": "2024-04-22T14:58:25.566323500Z"
    }
   },
   "id": "b614c14629edf088"
  },
  {
   "cell_type": "code",
   "execution_count": 101,
   "outputs": [
    {
     "data": {
      "text/plain": "text     20\nlabel     1\ndtype: int64"
     },
     "execution_count": 101,
     "metadata": {},
     "output_type": "execute_result"
    }
   ],
   "source": [
    "# Surprisingly there are some duplicate comments\n",
    "data.nunique()"
   ],
   "metadata": {
    "collapsed": false,
    "ExecuteTime": {
     "end_time": "2024-04-22T14:58:25.772114300Z",
     "start_time": "2024-04-22T14:58:25.581859Z"
    }
   },
   "id": "7183b66978e3478d"
  },
  {
   "cell_type": "raw",
   "source": [
    "show which reviews has repeated:"
   ],
   "metadata": {
    "collapsed": false
   },
   "id": "d7d218f95ecd7ef"
  },
  {
   "cell_type": "code",
   "execution_count": 102,
   "outputs": [],
   "source": [
    "uniq_data_rev = np.unique(data[\"label\"],return_counts=True)\n",
    "review = uniq_data_rev[0]\n",
    "count = uniq_data_rev[1]"
   ],
   "metadata": {
    "collapsed": false,
    "ExecuteTime": {
     "end_time": "2024-04-22T14:58:25.772114300Z",
     "start_time": "2024-04-22T14:58:25.596129700Z"
    }
   },
   "id": "bb4f38d184e68373"
  },
  {
   "cell_type": "code",
   "execution_count": 103,
   "outputs": [
    {
     "data": {
      "text/plain": "array([0], dtype=int64)"
     },
     "execution_count": 103,
     "metadata": {},
     "output_type": "execute_result"
    }
   ],
   "source": [
    "# Now we can see duplicate comments below:\n",
    "review[count > 1]"
   ],
   "metadata": {
    "collapsed": false,
    "ExecuteTime": {
     "end_time": "2024-04-22T14:58:25.772114300Z",
     "start_time": "2024-04-22T14:58:25.611601200Z"
    }
   },
   "id": "72d30520cfeaa64d"
  },
  {
   "cell_type": "code",
   "execution_count": 104,
   "outputs": [],
   "source": [
    "# let's remove (drop) duplicates rows\n",
    "data.drop_duplicates(inplace=True)\n",
    "data.reset_index(drop=True,inplace=True)"
   ],
   "metadata": {
    "collapsed": false,
    "ExecuteTime": {
     "end_time": "2024-04-22T14:58:25.832645200Z",
     "start_time": "2024-04-22T14:58:25.626599Z"
    }
   },
   "id": "c2ee192dd3623bda"
  },
  {
   "cell_type": "code",
   "execution_count": 105,
   "outputs": [
    {
     "data": {
      "text/plain": "(20, 2)"
     },
     "execution_count": 105,
     "metadata": {},
     "output_type": "execute_result"
    }
   ],
   "source": [
    "# data shape after drop duuplicates (now it has 49582 rows instead of 50000)\n",
    "data.shape"
   ],
   "metadata": {
    "collapsed": false,
    "ExecuteTime": {
     "end_time": "2024-04-22T14:58:25.833659900Z",
     "start_time": "2024-04-22T14:58:25.642199700Z"
    }
   },
   "id": "e6c8a432d65e6f04"
  },
  {
   "cell_type": "raw",
   "source": [
    "some special text mining text processing steps"
   ],
   "metadata": {
    "collapsed": false
   },
   "id": "c46c87045ba1fea5"
  },
  {
   "cell_type": "code",
   "execution_count": 106,
   "outputs": [],
   "source": [
    "# this library converts any word to its stem (مصدر)\n",
    "stem = PorterStemmer()"
   ],
   "metadata": {
    "collapsed": false,
    "ExecuteTime": {
     "end_time": "2024-04-22T14:58:25.833659900Z",
     "start_time": "2024-04-22T14:58:25.657349900Z"
    }
   },
   "id": "63bf584cf9670f1c"
  },
  {
   "cell_type": "code",
   "execution_count": 107,
   "outputs": [],
   "source": [
    "# punctuation in english like . \" ; ' and others should be removed from text\n",
    "# here we got a list of english punctuations to not consider them\n",
    "punctuations = list(string.punctuation)"
   ],
   "metadata": {
    "collapsed": false,
    "ExecuteTime": {
     "end_time": "2024-04-22T14:58:25.833659900Z",
     "start_time": "2024-04-22T14:58:25.673064600Z"
    }
   },
   "id": "8f99f6b4f5dcb0ba"
  },
  {
   "cell_type": "code",
   "execution_count": 108,
   "outputs": [],
   "source": [
    "#stop words like \"and\" should be removed from text because they won't help the algorithm to work better\n",
    "# and they increase the number of features (they are useless features)\n",
    "# here we got a list of english stopwords\n",
    "stop_words = stopwords.words(\"english\")"
   ],
   "metadata": {
    "collapsed": false,
    "ExecuteTime": {
     "end_time": "2024-04-22T14:58:25.833659900Z",
     "start_time": "2024-04-22T14:58:25.688561700Z"
    }
   },
   "id": "8b89cac3674be5b8"
  },
  {
   "cell_type": "code",
   "execution_count": 109,
   "outputs": [],
   "source": [
    "#let's make a function which do \"text_clearing\"\n",
    "def text_cleaner(text):    \n",
    "    # make text lower case\n",
    "    lowtext = text.lower()\n",
    "    \n",
    "    #clear html tags from text\n",
    "    no_htmltag_text = BeautifulSoup(lowtext).getText()\n",
    "    \n",
    "    # word tokenize text\n",
    "    tokens = word_tokenize(no_htmltag_text)\n",
    "    \n",
    "    # fine_tokens will contains words which are sutable to be a feature\n",
    "    fine_tokens = list()\n",
    "    for tok in tokens:\n",
    "        if (not tok.isdigit()) and (tok not in punctuations) and (tok not in stop_words):\n",
    "            stemed_tok= stem.stem(tok)\n",
    "            fine_tokens.append(stemed_tok)\n",
    "    cleaned_text = \" \".join(fine_tokens)\n",
    "    return cleaned_text"
   ],
   "metadata": {
    "collapsed": false,
    "ExecuteTime": {
     "end_time": "2024-04-22T14:58:25.834646Z",
     "start_time": "2024-04-22T14:58:25.708519900Z"
    }
   },
   "id": "71c145f38e739fa9"
  },
  {
   "cell_type": "code",
   "execution_count": 110,
   "outputs": [
    {
     "data": {
      "text/plain": "'wonder littl product ...'"
     },
     "execution_count": 110,
     "metadata": {},
     "output_type": "execute_result"
    }
   ],
   "source": [
    "# just an example of how text_cleaner def works\n",
    "text_cleaner(\"A wonderful little production. <br /><br />The...\")"
   ],
   "metadata": {
    "collapsed": false,
    "ExecuteTime": {
     "end_time": "2024-04-22T14:58:25.834646Z",
     "start_time": "2024-04-22T14:58:25.721107700Z"
    }
   },
   "id": "808877c43da7106f"
  },
  {
   "cell_type": "code",
   "execution_count": 111,
   "outputs": [],
   "source": [
    "# apply the function on data (clearing text of review column of data)\n",
    "data['text'] = data['text'].apply(text_cleaner)"
   ],
   "metadata": {
    "collapsed": false,
    "ExecuteTime": {
     "end_time": "2024-04-22T14:58:25.937160300Z",
     "start_time": "2024-04-22T14:58:25.765115600Z"
    }
   },
   "id": "5d36d941f8c5becf"
  },
  {
   "cell_type": "code",
   "execution_count": 112,
   "outputs": [
    {
     "data": {
      "text/plain": "0    love sci-fi will put lot sci-fi movies/tv usua...\n1    worth entertain valu rental especi like action...\n2    total averag film semi-alright action sequenc ...\n3    star rate saturday night friday night friday m...\n4    first let say n't enjoy van damm movi sinc blo...\nName: text, dtype: object"
     },
     "execution_count": 112,
     "metadata": {},
     "output_type": "execute_result"
    }
   ],
   "source": [
    "data[\"text\"].head()"
   ],
   "metadata": {
    "collapsed": false,
    "ExecuteTime": {
     "end_time": "2024-04-22T14:58:25.937160300Z",
     "start_time": "2024-04-22T14:58:25.799649Z"
    }
   },
   "id": "ea88484e4f81a6a4"
  },
  {
   "cell_type": "code",
   "execution_count": 113,
   "outputs": [],
   "source": [
    "dlis = []\n",
    "for d in data[\"text\"]:\n",
    "    dlis.append(len(d.split(\" \")))"
   ],
   "metadata": {
    "collapsed": false,
    "ExecuteTime": {
     "end_time": "2024-04-22T14:58:25.937160300Z",
     "start_time": "2024-04-22T14:58:25.816648600Z"
    }
   },
   "id": "f7fa2a80bf1ccf80"
  },
  {
   "cell_type": "code",
   "execution_count": 114,
   "outputs": [
    {
     "data": {
      "text/plain": "(array([1., 1., 3., 0., 1., 0., 0., 0., 1., 1., 1., 0., 1., 1., 1., 0., 0.,\n        0., 0., 1., 0., 1., 1., 0., 1., 0., 1., 0., 1., 0., 0., 0., 0., 0.,\n        0., 0., 0., 0., 0., 0., 0., 0., 0., 0., 0., 0., 0., 0., 1., 1.]),\n array([ 59.  ,  61.94,  64.88,  67.82,  70.76,  73.7 ,  76.64,  79.58,\n         82.52,  85.46,  88.4 ,  91.34,  94.28,  97.22, 100.16, 103.1 ,\n        106.04, 108.98, 111.92, 114.86, 117.8 , 120.74, 123.68, 126.62,\n        129.56, 132.5 , 135.44, 138.38, 141.32, 144.26, 147.2 , 150.14,\n        153.08, 156.02, 158.96, 161.9 , 164.84, 167.78, 170.72, 173.66,\n        176.6 , 179.54, 182.48, 185.42, 188.36, 191.3 , 194.24, 197.18,\n        200.12, 203.06, 206.  ]),\n <BarContainer object of 50 artists>)"
     },
     "execution_count": 114,
     "metadata": {},
     "output_type": "execute_result"
    },
    {
     "data": {
      "text/plain": "<Figure size 640x480 with 1 Axes>",
      "image/png": "[encoded data removed]"
     },
     "metadata": {},
     "output_type": "display_data"
    }
   ],
   "source": [
    "import matplotlib.pyplot as plt\n",
    "plt.hist(dlis,bins=50)\n",
    "# so max len should be 300 in my openion"
   ],
   "metadata": {
    "collapsed": false,
    "ExecuteTime": {
     "end_time": "2024-04-22T14:58:26.113196100Z",
     "start_time": "2024-04-22T14:58:25.830643Z"
    }
   },
   "id": "b84a13e5d8ebf97c"
  },
  {
   "cell_type": "code",
   "execution_count": 115,
   "outputs": [],
   "source": [
    "data_text = []\n",
    "for i in range(len(data)):\n",
    "    d = (data[\"text\"][i].split(\" \"))[:300]\n",
    "    for s in range(300 - len(d)):\n",
    "        d.append(\"<pad>\")\n",
    "    data_text.append(d)\n",
    "        "
   ],
   "metadata": {
    "collapsed": false,
    "ExecuteTime": {
     "end_time": "2024-04-22T14:58:26.114196200Z",
     "start_time": "2024-04-22T14:58:26.021678400Z"
    }
   },
   "id": "16e76cef99083384"
  },
  {
   "cell_type": "code",
   "execution_count": 116,
   "outputs": [
    {
     "name": "stderr",
     "output_type": "stream",
     "text": [
      "c:\\users\\mohammad\\appdata\\local\\programs\\python\\python38\\lib\\site-packages\\gensim\\models\\base_any2vec.py:322: UserWarning: C extension not loaded, training will be slow. Install a C compiler and reinstall gensim for fast training.\n",
      "  warnings.warn(\n"
     ]
    }
   ],
   "source": [
    "from gensim.models import Word2Vec\n",
    "\n",
    "sentences = data_text\n",
    "\n",
    "model = Word2Vec(sentences,min_count=1)"
   ],
   "metadata": {
    "collapsed": false,
    "ExecuteTime": {
     "end_time": "2024-04-22T14:58:28.265946500Z",
     "start_time": "2024-04-22T14:58:26.038676100Z"
    }
   },
   "id": "c30bb6094e509578"
  },
  {
   "cell_type": "code",
   "execution_count": 117,
   "outputs": [
    {
     "data": {
      "text/plain": "array([-0.00281086, -0.00582743,  0.00385409, -0.00015076, -0.01512071,\n       -0.01947593, -0.0076694 ,  0.00935048,  0.02243316, -0.00626046,\n       -0.00800587,  0.00901211, -0.012091  , -0.00787277,  0.01202563,\n       -0.00888254, -0.01747866,  0.00383031,  0.00453406, -0.00115861,\n        0.0055733 ,  0.01191551,  0.00950265,  0.01318929,  0.00501063,\n        0.00644541, -0.00237291, -0.01136323,  0.01112186, -0.01118645,\n        0.00876825,  0.00380243,  0.00550717, -0.02034295,  0.00124532,\n        0.00136779,  0.000965  , -0.00505904, -0.00474375, -0.00201678,\n       -0.00500102, -0.00917562,  0.00564252,  0.01490801, -0.00485878,\n        0.01645022, -0.01707733, -0.00313226,  0.01507907,  0.0079564 ,\n        0.01654629, -0.0097253 , -0.00934053,  0.01401316,  0.00292984,\n        0.00104117,  0.00156603,  0.00533124,  0.00345733, -0.00326908,\n        0.00231214, -0.00493189,  0.00585195, -0.00957273, -0.0087679 ,\n        0.01049494,  0.01210383,  0.01354942,  0.00602531,  0.00969731,\n       -0.00084172, -0.0049337 , -0.011083  , -0.01385687,  0.00217657,\n        0.00053238,  0.00106388,  0.00160394,  0.00814063, -0.02281496,\n        0.00932971,  0.00471752,  0.01146757,  0.00658389, -0.01308795,\n       -0.01085765,  0.00651596,  0.00254291,  0.00834719, -0.01598795,\n       -0.00787112, -0.00259937, -0.01913302, -0.0154736 , -0.01296581,\n       -0.00376993, -0.00379801,  0.01259072, -0.01013133,  0.00303559],\n      dtype=float32)"
     },
     "execution_count": 117,
     "metadata": {},
     "output_type": "execute_result"
    }
   ],
   "source": [
    "model.wv.__getitem__(\"idea\")"
   ],
   "metadata": {
    "collapsed": false,
    "ExecuteTime": {
     "end_time": "2024-04-22T14:58:28.293406900Z",
     "start_time": "2024-04-22T14:58:28.267951700Z"
    }
   },
   "id": "d99d2eb451786f25"
  },
  {
   "cell_type": "code",
   "execution_count": 118,
   "outputs": [],
   "source": [
    "tok_array = []\n",
    "for sentence in data_text:\n",
    "    sent_array = []\n",
    "    for word in sentence:\n",
    "        word_vect = model.wv.__getitem__(word)\n",
    "        sent_array.append(np.asarray(word_vect))\n",
    "    else:\n",
    "        tok_array.append(np.asarray(sent_array))\n",
    "        \n",
    "tok_array = np.asarray(tok_array)"
   ],
   "metadata": {
    "collapsed": false,
    "ExecuteTime": {
     "end_time": "2024-04-22T14:58:28.319719300Z",
     "start_time": "2024-04-22T14:58:28.282398100Z"
    }
   },
   "id": "8d72c3ef234f048a"
  },
  {
   "cell_type": "code",
   "execution_count": 119,
   "outputs": [
    {
     "data": {
      "text/plain": "(20, 300, 100)"
     },
     "execution_count": 119,
     "metadata": {},
     "output_type": "execute_result"
    }
   ],
   "source": [
    "tok_array.shape"
   ],
   "metadata": {
    "collapsed": false,
    "ExecuteTime": {
     "end_time": "2024-04-22T14:58:28.337716400Z",
     "start_time": "2024-04-22T14:58:28.313716400Z"
    }
   },
   "id": "bcf5805887b3204b"
  },
  {
   "cell_type": "code",
   "execution_count": 120,
   "outputs": [
    {
     "data": {
      "text/plain": "(20,)"
     },
     "execution_count": 120,
     "metadata": {},
     "output_type": "execute_result"
    }
   ],
   "source": [
    "data[\"label\"].shape"
   ],
   "metadata": {
    "collapsed": false,
    "ExecuteTime": {
     "end_time": "2024-04-22T14:58:28.390458900Z",
     "start_time": "2024-04-22T14:58:28.330716600Z"
    }
   },
   "id": "bea7d003566aa1de"
  },
  {
   "cell_type": "code",
   "execution_count": 120,
   "outputs": [],
   "source": [],
   "metadata": {
    "collapsed": false,
    "ExecuteTime": {
     "end_time": "2024-04-22T14:58:28.391458600Z",
     "start_time": "2024-04-22T14:58:28.346714900Z"
    }
   },
   "id": "f6a056c12087b311"
  },
  {
   "cell_type": "code",
   "execution_count": 120,
   "outputs": [],
   "source": [],
   "metadata": {
    "collapsed": false,
    "ExecuteTime": {
     "end_time": "2024-04-22T14:58:28.391458600Z",
     "start_time": "2024-04-22T14:58:28.361796700Z"
    }
   },
   "id": "5d4c1596fadebdf2"
  },
  {
   "cell_type": "code",
   "execution_count": 120,
   "outputs": [],
   "source": [],
   "metadata": {
    "collapsed": false,
    "ExecuteTime": {
     "end_time": "2024-04-22T14:58:28.405459400Z",
     "start_time": "2024-04-22T14:58:28.377826700Z"
    }
   },
   "id": "e457b69dd50f53cd"
  },
  {
   "cell_type": "code",
   "execution_count": 121,
   "outputs": [],
   "source": [
    "#spliting data to train and test sample\n",
    "X_train, X_test, y_train, y_test = train_test_split(tok_array,data[\"label\"],test_size=0.333,random_state=42)"
   ],
   "metadata": {
    "collapsed": false,
    "ExecuteTime": {
     "end_time": "2024-04-22T14:58:28.418641200Z",
     "start_time": "2024-04-22T14:58:28.394457800Z"
    }
   },
   "id": "452ed8e356f7ed3c"
  },
  {
   "cell_type": "code",
   "execution_count": 121,
   "outputs": [],
   "source": [],
   "metadata": {
    "collapsed": false,
    "ExecuteTime": {
     "end_time": "2024-04-22T14:58:28.449837900Z",
     "start_time": "2024-04-22T14:58:28.409458700Z"
    }
   },
   "id": "dc2d69ec11a6772f"
  },
  {
   "cell_type": "code",
   "execution_count": 121,
   "outputs": [],
   "source": [],
   "metadata": {
    "collapsed": false,
    "ExecuteTime": {
     "end_time": "2024-04-22T14:58:28.450841200Z",
     "start_time": "2024-04-22T14:58:28.425674900Z"
    }
   },
   "id": "b64ed3540a10569f"
  },
  {
   "cell_type": "code",
   "execution_count": 121,
   "outputs": [],
   "source": [],
   "metadata": {
    "collapsed": false,
    "ExecuteTime": {
     "end_time": "2024-04-22T14:58:28.461838500Z",
     "start_time": "2024-04-22T14:58:28.438841900Z"
    }
   },
   "id": "b613fd5bcf6b8985"
  },
  {
   "cell_type": "code",
   "execution_count": 121,
   "outputs": [],
   "source": [],
   "metadata": {
    "collapsed": false,
    "ExecuteTime": {
     "end_time": "2024-04-22T14:58:28.469872900Z",
     "start_time": "2024-04-22T14:58:28.454839800Z"
    }
   },
   "id": "68b06b3f83885b95"
  },
  {
   "cell_type": "code",
   "execution_count": 122,
   "outputs": [],
   "source": [
    "number = len(list(model.wv.vocab))"
   ],
   "metadata": {
    "collapsed": false,
    "ExecuteTime": {
     "end_time": "2024-04-22T14:58:28.505156600Z",
     "start_time": "2024-04-22T14:58:28.470843100Z"
    }
   },
   "id": "361529d56709601"
  },
  {
   "cell_type": "code",
   "execution_count": 123,
   "outputs": [
    {
     "data": {
      "text/plain": "964"
     },
     "execution_count": 123,
     "metadata": {},
     "output_type": "execute_result"
    }
   ],
   "source": [
    "number"
   ],
   "metadata": {
    "collapsed": false,
    "ExecuteTime": {
     "end_time": "2024-04-22T14:58:28.505156600Z",
     "start_time": "2024-04-22T14:58:28.486497300Z"
    }
   },
   "id": "2479ddfa8af38662"
  },
  {
   "cell_type": "code",
   "execution_count": 124,
   "outputs": [],
   "source": [
    "from keras.models import Sequential\n",
    "from keras.layers import Dense,Conv1D\n",
    "import keras"
   ],
   "metadata": {
    "collapsed": false,
    "ExecuteTime": {
     "end_time": "2024-04-22T14:58:28.518748200Z",
     "start_time": "2024-04-22T14:58:28.502159Z"
    }
   },
   "id": "b5ddb482d64b5b33"
  },
  {
   "cell_type": "code",
   "execution_count": 125,
   "outputs": [],
   "source": [
    "model = Sequential()\n",
    "# model.add(Embedding(input_dim=(number+1),output_dim=50))\n",
    "model.add(Conv1D(filters=8,kernel_size=3,strides=1,padding=\"same\",input_shape=(300,100)))\n",
    "model.add(Dense(units=64,activation=\"relu\"))\n",
    "model.add(Dense(units=64,activation=\"relu\"))\n",
    "model.add(Dense(units=32,activation=\"relu\"))\n",
    "model.add(Dense(units=1,activation=\"sigmoid\"))"
   ],
   "metadata": {
    "collapsed": false,
    "ExecuteTime": {
     "end_time": "2024-04-22T14:58:28.595302600Z",
     "start_time": "2024-04-22T14:58:28.518748200Z"
    }
   },
   "id": "f1c4acb3db56b934"
  },
  {
   "cell_type": "code",
   "execution_count": 126,
   "outputs": [],
   "source": [
    "#compile\n",
    "model.compile(\n",
    "    metrics = keras.metrics.BinaryAccuracy(),\n",
    "    optimizer= keras.optimizers.Adam(learning_rate=0.0001),\n",
    "    loss=keras.losses.BinaryCrossentropy()\n",
    "\n",
    ")"
   ],
   "metadata": {
    "collapsed": false,
    "ExecuteTime": {
     "end_time": "2024-04-22T14:58:28.610506600Z",
     "start_time": "2024-04-22T14:58:28.597305800Z"
    }
   },
   "id": "ee9144f6e45dc21"
  },
  {
   "cell_type": "code",
   "execution_count": 127,
   "outputs": [
    {
     "name": "stdout",
     "output_type": "stream",
     "text": [
      "Epoch 1/5\n",
      "1/1 [==============================] - 1s 1s/step - loss: 0.6756 - binary_accuracy: 0.9975 - val_loss: 0.6725 - val_binary_accuracy: 0.9993\n",
      "Epoch 2/5\n",
      "1/1 [==============================] - 0s 32ms/step - loss: 0.6740 - binary_accuracy: 0.9975 - val_loss: 0.6707 - val_binary_accuracy: 0.9993\n",
      "Epoch 3/5\n",
      "1/1 [==============================] - 0s 32ms/step - loss: 0.6724 - binary_accuracy: 0.9975 - val_loss: 0.6688 - val_binary_accuracy: 0.9993\n",
      "Epoch 4/5\n",
      "1/1 [==============================] - 0s 31ms/step - loss: 0.6707 - binary_accuracy: 0.9975 - val_loss: 0.6669 - val_binary_accuracy: 0.9993\n",
      "Epoch 5/5\n",
      "1/1 [==============================] - 0s 36ms/step - loss: 0.6691 - binary_accuracy: 0.9983 - val_loss: 0.6649 - val_binary_accuracy: 0.9993\n"
     ]
    },
    {
     "data": {
      "text/plain": "<keras.src.callbacks.History at 0x1da11e7ca90>"
     },
     "execution_count": 127,
     "metadata": {},
     "output_type": "execute_result"
    }
   ],
   "source": [
    "model.fit(X_train,y_train,epochs=5,verbose=1,validation_split=0.33)\n"
   ],
   "metadata": {
    "collapsed": false,
    "ExecuteTime": {
     "end_time": "2024-04-22T14:58:29.871041900Z",
     "start_time": "2024-04-22T14:58:28.611509200Z"
    }
   },
   "id": "b323246e3274741b"
  },
  {
   "cell_type": "code",
   "execution_count": 127,
   "outputs": [],
   "source": [],
   "metadata": {
    "collapsed": false,
    "ExecuteTime": {
     "end_time": "2024-04-22T14:58:29.887340300Z",
     "start_time": "2024-04-22T14:58:29.871041900Z"
    }
   },
   "id": "f19488fb03a6135a"
  }
 ],
 "metadata": {
  "kernelspec": {
   "display_name": "Python 3",
   "language": "python",
   "name": "python3"
  },
  "language_info": {
   "codemirror_mode": {
    "name": "ipython",
    "version": 2
   },
   "file_extension": ".py",
   "mimetype": "text/x-python",
   "name": "python",
   "nbconvert_exporter": "python",
   "pygments_lexer": "ipython2",
   "version": "2.7.6"
  }
 },
 "nbformat": 4,
 "nbformat_minor": 5
}
