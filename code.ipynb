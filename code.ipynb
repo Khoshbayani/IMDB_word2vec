{
 "cells": [
  {
   "cell_type": "code",
   "execution_count": 1,
   "outputs": [],
   "source": [
    "import keras.metrics\n",
    "import pandas as pd"
   ],
   "metadata": {
    "collapsed": false,
    "ExecuteTime": {
     "end_time": "2024-04-21T12:41:26.855881Z",
     "start_time": "2024-04-21T12:41:25.329757900Z"
    }
   },
   "id": "9b17154ff6a1ea39"
  },
  {
   "cell_type": "code",
   "execution_count": 2,
   "outputs": [],
   "source": [
    "train_data = pd.read_parquet(\"train-00000-of-00001.parquet\")"
   ],
   "metadata": {
    "collapsed": false,
    "ExecuteTime": {
     "end_time": "2024-04-21T12:41:27.308001200Z",
     "start_time": "2024-04-21T12:41:26.855881Z"
    }
   },
   "id": "6a8fe95293142d35"
  },
  {
   "cell_type": "code",
   "execution_count": 3,
   "outputs": [],
   "source": [
    "test_data = pd.read_parquet(\"test-00000-of-00001.parquet\")"
   ],
   "metadata": {
    "collapsed": false,
    "ExecuteTime": {
     "end_time": "2024-04-21T12:41:27.553016200Z",
     "start_time": "2024-04-21T12:41:27.308001200Z"
    }
   },
   "id": "75388c4a7150ccfc"
  },
  {
   "cell_type": "code",
   "execution_count": 4,
   "outputs": [],
   "source": [
    "unsupervised_data = pd.read_parquet(\"unsupervised-00000-of-00001.parquet\")"
   ],
   "metadata": {
    "collapsed": false,
    "ExecuteTime": {
     "end_time": "2024-04-21T12:41:27.964165700Z",
     "start_time": "2024-04-21T12:41:27.553016200Z"
    }
   },
   "id": "194281aca0ecf18"
  },
  {
   "cell_type": "code",
   "execution_count": 5,
   "outputs": [
    {
     "data": {
      "text/plain": "                                                text  label\n0  I rented I AM CURIOUS-YELLOW from my video sto...      0\n1  \"I Am Curious: Yellow\" is a risible and preten...      0\n2  If only to avoid making this type of film in t...      0\n3  This film was probably inspired by Godard's Ma...      0\n4  Oh, brother...after hearing about this ridicul...      0",
      "text/html": "<div>\n<style scoped>\n    .dataframe tbody tr th:only-of-type {\n        vertical-align: middle;\n    }\n\n    .dataframe tbody tr th {\n        vertical-align: top;\n    }\n\n    .dataframe thead th {\n        text-align: right;\n    }\n</style>\n<table border=\"1\" class=\"dataframe\">\n  <thead>\n    <tr style=\"text-align: right;\">\n      <th></th>\n      <th>text</th>\n      <th>label</th>\n    </tr>\n  </thead>\n  <tbody>\n    <tr>\n      <th>0</th>\n      <td>I rented I AM CURIOUS-YELLOW from my video sto...</td>\n      <td>0</td>\n    </tr>\n    <tr>\n      <th>1</th>\n      <td>\"I Am Curious: Yellow\" is a risible and preten...</td>\n      <td>0</td>\n    </tr>\n    <tr>\n      <th>2</th>\n      <td>If only to avoid making this type of film in t...</td>\n      <td>0</td>\n    </tr>\n    <tr>\n      <th>3</th>\n      <td>This film was probably inspired by Godard's Ma...</td>\n      <td>0</td>\n    </tr>\n    <tr>\n      <th>4</th>\n      <td>Oh, brother...after hearing about this ridicul...</td>\n      <td>0</td>\n    </tr>\n  </tbody>\n</table>\n</div>"
     },
     "execution_count": 5,
     "metadata": {},
     "output_type": "execute_result"
    }
   ],
   "source": [
    "train_data.head()"
   ],
   "metadata": {
    "collapsed": false,
    "ExecuteTime": {
     "end_time": "2024-04-21T12:41:28.002722800Z",
     "start_time": "2024-04-21T12:41:27.971178200Z"
    }
   },
   "id": "d8c906618deeff4f"
  },
  {
   "cell_type": "code",
   "execution_count": 6,
   "outputs": [
    {
     "name": "stdout",
     "output_type": "stream",
     "text": [
      "WARNING:tensorflow:From C:\\Users\\Mohammad\\anaconda3\\Lib\\site-packages\\keras\\src\\losses.py:2976: The name tf.losses.sparse_softmax_cross_entropy is deprecated. Please use tf.compat.v1.losses.sparse_softmax_cross_entropy instead.\n"
     ]
    }
   ],
   "source": [
    "from keras.preprocessing.text import Tokenizer"
   ],
   "metadata": {
    "collapsed": false,
    "ExecuteTime": {
     "end_time": "2024-04-21T12:41:38.376247900Z",
     "start_time": "2024-04-21T12:41:27.987063700Z"
    }
   },
   "id": "9cfe96c5d43a13c4"
  },
  {
   "cell_type": "code",
   "execution_count": 7,
   "outputs": [],
   "source": [
    "tokenizer = Tokenizer()\n",
    "tokenized_train = tokenizer.fit_on_texts(train_data[\"text\"])"
   ],
   "metadata": {
    "collapsed": false,
    "ExecuteTime": {
     "end_time": "2024-04-21T12:41:41.893545600Z",
     "start_time": "2024-04-21T12:41:38.376247900Z"
    }
   },
   "id": "8ae8e0dcd06cdf00"
  },
  {
   "cell_type": "code",
   "execution_count": 8,
   "outputs": [
    {
     "data": {
      "text/plain": "{'the': 1,\n 'and': 2,\n 'a': 3,\n 'of': 4,\n 'to': 5,\n 'is': 6,\n 'br': 7,\n 'in': 8,\n 'it': 9,\n 'i': 10,\n 'this': 11,\n 'that': 12,\n 'was': 13,\n 'as': 14,\n 'for': 15,\n 'with': 16,\n 'movie': 17,\n 'but': 18,\n 'film': 19,\n 'on': 20,\n 'not': 21,\n 'you': 22,\n 'are': 23,\n 'his': 24,\n 'have': 25,\n 'he': 26,\n 'be': 27,\n 'one': 28,\n 'all': 29,\n 'at': 30,\n 'by': 31,\n 'an': 32,\n 'they': 33,\n 'who': 34,\n 'so': 35,\n 'from': 36,\n 'like': 37,\n 'her': 38,\n 'or': 39,\n 'just': 40,\n 'about': 41,\n \"it's\": 42,\n 'out': 43,\n 'if': 44,\n 'has': 45,\n 'some': 46,\n 'there': 47,\n 'what': 48,\n 'good': 49,\n 'more': 50,\n 'when': 51,\n 'very': 52,\n 'up': 53,\n 'no': 54,\n 'time': 55,\n 'she': 56,\n 'even': 57,\n 'my': 58,\n 'would': 59,\n 'which': 60,\n 'only': 61,\n 'story': 62,\n 'really': 63,\n 'see': 64,\n 'their': 65,\n 'had': 66,\n 'can': 67,\n 'were': 68,\n 'me': 69,\n 'well': 70,\n 'than': 71,\n 'we': 72,\n 'much': 73,\n 'been': 74,\n 'bad': 75,\n 'get': 76,\n 'will': 77,\n 'do': 78,\n 'also': 79,\n 'into': 80,\n 'people': 81,\n 'other': 82,\n 'first': 83,\n 'great': 84,\n 'because': 85,\n 'how': 86,\n 'him': 87,\n 'most': 88,\n \"don't\": 89,\n 'made': 90,\n 'its': 91,\n 'then': 92,\n 'way': 93,\n 'make': 94,\n 'them': 95,\n 'too': 96,\n 'could': 97,\n 'any': 98,\n 'movies': 99,\n 'after': 100,\n 'think': 101,\n 'characters': 102,\n 'watch': 103,\n 'two': 104,\n 'films': 105,\n 'character': 106,\n 'seen': 107,\n 'many': 108,\n 'being': 109,\n 'life': 110,\n 'plot': 111,\n 'never': 112,\n 'acting': 113,\n 'little': 114,\n 'best': 115,\n 'love': 116,\n 'over': 117,\n 'where': 118,\n 'did': 119,\n 'show': 120,\n 'know': 121,\n 'off': 122,\n 'ever': 123,\n 'does': 124,\n 'better': 125,\n 'your': 126,\n 'end': 127,\n 'still': 128,\n 'man': 129,\n 'here': 130,\n 'these': 131,\n 'say': 132,\n 'scene': 133,\n 'while': 134,\n 'why': 135,\n 'scenes': 136,\n 'go': 137,\n 'such': 138,\n 'something': 139,\n 'through': 140,\n 'should': 141,\n 'back': 142,\n \"i'm\": 143,\n 'real': 144,\n 'those': 145,\n 'watching': 146,\n 'now': 147,\n 'though': 148,\n \"doesn't\": 149,\n 'years': 150,\n 'old': 151,\n 'thing': 152,\n 'actors': 153,\n 'work': 154,\n '10': 155,\n 'before': 156,\n 'another': 157,\n \"didn't\": 158,\n 'new': 159,\n 'funny': 160,\n 'nothing': 161,\n 'actually': 162,\n 'makes': 163,\n 'director': 164,\n 'look': 165,\n 'find': 166,\n 'going': 167,\n 'few': 168,\n 'same': 169,\n 'part': 170,\n 'again': 171,\n 'every': 172,\n 'lot': 173,\n 'cast': 174,\n 'us': 175,\n 'quite': 176,\n 'down': 177,\n 'want': 178,\n 'world': 179,\n 'things': 180,\n 'pretty': 181,\n 'young': 182,\n 'seems': 183,\n 'around': 184,\n 'got': 185,\n 'horror': 186,\n 'however': 187,\n \"can't\": 188,\n 'fact': 189,\n 'take': 190,\n 'big': 191,\n 'enough': 192,\n 'long': 193,\n 'thought': 194,\n \"that's\": 195,\n 'both': 196,\n 'between': 197,\n 'series': 198,\n 'give': 199,\n 'may': 200,\n 'original': 201,\n 'own': 202,\n 'action': 203,\n \"i've\": 204,\n 'right': 205,\n 'without': 206,\n 'always': 207,\n 'times': 208,\n 'comedy': 209,\n 'point': 210,\n 'gets': 211,\n 'must': 212,\n 'come': 213,\n 'role': 214,\n \"isn't\": 215,\n 'saw': 216,\n 'almost': 217,\n 'interesting': 218,\n 'least': 219,\n 'family': 220,\n 'done': 221,\n \"there's\": 222,\n 'whole': 223,\n 'bit': 224,\n 'music': 225,\n 'script': 226,\n 'far': 227,\n 'making': 228,\n 'anything': 229,\n 'guy': 230,\n 'feel': 231,\n 'minutes': 232,\n 'last': 233,\n 'since': 234,\n 'might': 235,\n 'performance': 236,\n \"he's\": 237,\n '2': 238,\n 'probably': 239,\n 'kind': 240,\n 'am': 241,\n 'away': 242,\n 'yet': 243,\n 'rather': 244,\n 'tv': 245,\n 'worst': 246,\n 'girl': 247,\n 'day': 248,\n 'sure': 249,\n 'fun': 250,\n 'hard': 251,\n 'woman': 252,\n 'played': 253,\n 'each': 254,\n 'found': 255,\n 'anyone': 256,\n 'having': 257,\n 'although': 258,\n 'especially': 259,\n 'our': 260,\n 'believe': 261,\n 'course': 262,\n 'comes': 263,\n 'looking': 264,\n 'screen': 265,\n 'trying': 266,\n 'set': 267,\n 'goes': 268,\n 'looks': 269,\n 'place': 270,\n 'book': 271,\n 'different': 272,\n 'put': 273,\n 'ending': 274,\n 'money': 275,\n 'maybe': 276,\n 'once': 277,\n 'sense': 278,\n 'reason': 279,\n 'true': 280,\n 'actor': 281,\n 'everything': 282,\n \"wasn't\": 283,\n 'shows': 284,\n 'dvd': 285,\n 'three': 286,\n 'worth': 287,\n 'year': 288,\n 'job': 289,\n 'main': 290,\n 'someone': 291,\n 'together': 292,\n 'watched': 293,\n 'play': 294,\n 'american': 295,\n 'plays': 296,\n '1': 297,\n 'said': 298,\n 'effects': 299,\n 'later': 300,\n 'takes': 301,\n 'instead': 302,\n 'seem': 303,\n 'john': 304,\n 'beautiful': 305,\n 'himself': 306,\n 'version': 307,\n 'audience': 308,\n 'high': 309,\n 'house': 310,\n 'night': 311,\n 'during': 312,\n 'everyone': 313,\n 'left': 314,\n 'special': 315,\n 'seeing': 316,\n 'half': 317,\n 'excellent': 318,\n 'wife': 319,\n 'star': 320,\n 'shot': 321,\n 'war': 322,\n 'idea': 323,\n 'nice': 324,\n 'black': 325,\n 'less': 326,\n 'mind': 327,\n 'simply': 328,\n 'read': 329,\n 'second': 330,\n 'else': 331,\n \"you're\": 332,\n 'father': 333,\n 'fan': 334,\n 'poor': 335,\n 'help': 336,\n 'completely': 337,\n 'death': 338,\n '3': 339,\n 'used': 340,\n 'home': 341,\n 'either': 342,\n 'short': 343,\n 'line': 344,\n 'given': 345,\n 'men': 346,\n 'top': 347,\n 'dead': 348,\n 'budget': 349,\n 'try': 350,\n 'performances': 351,\n 'wrong': 352,\n 'classic': 353,\n 'boring': 354,\n 'enjoy': 355,\n 'need': 356,\n 'rest': 357,\n 'use': 358,\n 'hollywood': 359,\n 'kids': 360,\n 'low': 361,\n 'production': 362,\n 'until': 363,\n 'along': 364,\n 'friends': 365,\n 'full': 366,\n 'camera': 367,\n 'truly': 368,\n 'women': 369,\n 'awful': 370,\n 'video': 371,\n 'next': 372,\n 'tell': 373,\n 'remember': 374,\n 'stupid': 375,\n 'couple': 376,\n 'start': 377,\n 'stars': 378,\n 'perhaps': 379,\n 'sex': 380,\n 'mean': 381,\n 'came': 382,\n 'recommend': 383,\n 'let': 384,\n 'moments': 385,\n 'wonderful': 386,\n 'episode': 387,\n 'understand': 388,\n 'small': 389,\n 'face': 390,\n 'terrible': 391,\n 'school': 392,\n 'playing': 393,\n 'getting': 394,\n 'written': 395,\n 'doing': 396,\n 'often': 397,\n 'keep': 398,\n 'early': 399,\n 'perfect': 400,\n 'name': 401,\n 'style': 402,\n 'human': 403,\n 'definitely': 404,\n 'others': 405,\n 'gives': 406,\n 'itself': 407,\n 'lines': 408,\n 'live': 409,\n 'become': 410,\n 'dialogue': 411,\n 'person': 412,\n 'lost': 413,\n 'finally': 414,\n 'piece': 415,\n 'head': 416,\n 'case': 417,\n 'felt': 418,\n 'yes': 419,\n 'supposed': 420,\n 'liked': 421,\n 'title': 422,\n \"couldn't\": 423,\n 'absolutely': 424,\n 'white': 425,\n 'against': 426,\n 'boy': 427,\n 'picture': 428,\n 'sort': 429,\n 'worse': 430,\n 'certainly': 431,\n 'went': 432,\n 'entire': 433,\n 'cinema': 434,\n 'waste': 435,\n 'problem': 436,\n 'hope': 437,\n 'entertaining': 438,\n \"she's\": 439,\n 'mr': 440,\n 'overall': 441,\n 'evil': 442,\n 'called': 443,\n 'loved': 444,\n 'based': 445,\n 'oh': 446,\n 'several': 447,\n 'fans': 448,\n 'mother': 449,\n 'drama': 450,\n 'beginning': 451,\n 'killer': 452,\n 'lives': 453,\n '5': 454,\n 'direction': 455,\n 'care': 456,\n 'already': 457,\n 'becomes': 458,\n 'laugh': 459,\n 'example': 460,\n 'friend': 461,\n 'dark': 462,\n 'under': 463,\n 'despite': 464,\n 'seemed': 465,\n 'throughout': 466,\n '4': 467,\n 'turn': 468,\n 'unfortunately': 469,\n 'wanted': 470,\n \"i'd\": 471,\n '\\x96': 472,\n 'children': 473,\n 'final': 474,\n 'fine': 475,\n 'history': 476,\n 'amazing': 477,\n 'sound': 478,\n 'guess': 479,\n 'heart': 480,\n 'totally': 481,\n 'lead': 482,\n 'humor': 483,\n 'writing': 484,\n 'michael': 485,\n 'quality': 486,\n \"you'll\": 487,\n 'close': 488,\n 'son': 489,\n 'wants': 490,\n 'guys': 491,\n 'works': 492,\n 'behind': 493,\n 'tries': 494,\n 'art': 495,\n 'side': 496,\n 'game': 497,\n 'past': 498,\n 'able': 499,\n 'b': 500,\n 'days': 501,\n 'turns': 502,\n \"they're\": 503,\n 'child': 504,\n 'hand': 505,\n 'enjoyed': 506,\n 'flick': 507,\n 'act': 508,\n 'genre': 509,\n 'town': 510,\n 'favorite': 511,\n 'soon': 512,\n 'kill': 513,\n 'starts': 514,\n 'sometimes': 515,\n 'gave': 516,\n 'car': 517,\n 'run': 518,\n 'late': 519,\n 'actress': 520,\n 'etc': 521,\n 'eyes': 522,\n 'directed': 523,\n 'horrible': 524,\n \"won't\": 525,\n 'viewer': 526,\n 'brilliant': 527,\n 'parts': 528,\n 'self': 529,\n 'themselves': 530,\n 'hour': 531,\n 'expect': 532,\n 'thinking': 533,\n 'stories': 534,\n 'stuff': 535,\n 'girls': 536,\n 'obviously': 537,\n 'blood': 538,\n 'decent': 539,\n 'city': 540,\n 'voice': 541,\n 'highly': 542,\n 'myself': 543,\n 'feeling': 544,\n 'fight': 545,\n 'except': 546,\n 'slow': 547,\n 'matter': 548,\n 'type': 549,\n 'kid': 550,\n 'anyway': 551,\n 'roles': 552,\n 'heard': 553,\n 'killed': 554,\n 'god': 555,\n 'age': 556,\n 'says': 557,\n 'moment': 558,\n 'took': 559,\n 'leave': 560,\n 'writer': 561,\n 'cannot': 562,\n 'strong': 563,\n 'violence': 564,\n 'police': 565,\n 'hit': 566,\n 'happens': 567,\n 'stop': 568,\n 'particularly': 569,\n 'known': 570,\n 'involved': 571,\n 'happened': 572,\n 'extremely': 573,\n 'obvious': 574,\n 'daughter': 575,\n 'told': 576,\n 'chance': 577,\n 'living': 578,\n 'coming': 579,\n 'lack': 580,\n 'experience': 581,\n 'alone': 582,\n 'including': 583,\n \"wouldn't\": 584,\n 'murder': 585,\n 'attempt': 586,\n 's': 587,\n 'please': 588,\n 'james': 589,\n 'happen': 590,\n 'wonder': 591,\n 'crap': 592,\n 'ago': 593,\n 'brother': 594,\n \"film's\": 595,\n 'gore': 596,\n 'none': 597,\n 'complete': 598,\n 'interest': 599,\n 'score': 600,\n 'group': 601,\n 'cut': 602,\n 'simple': 603,\n 'save': 604,\n 'looked': 605,\n 'hell': 606,\n 'ok': 607,\n 'number': 608,\n 'career': 609,\n 'song': 610,\n 'possible': 611,\n 'seriously': 612,\n 'annoying': 613,\n 'shown': 614,\n 'sad': 615,\n 'exactly': 616,\n 'running': 617,\n 'serious': 618,\n 'musical': 619,\n 'taken': 620,\n 'yourself': 621,\n 'released': 622,\n 'whose': 623,\n 'david': 624,\n 'cinematography': 625,\n 'scary': 626,\n 'ends': 627,\n 'english': 628,\n 'usually': 629,\n 'hero': 630,\n 'hours': 631,\n 'reality': 632,\n 'opening': 633,\n \"i'll\": 634,\n 'jokes': 635,\n 'today': 636,\n 'light': 637,\n 'across': 638,\n 'hilarious': 639,\n 'somewhat': 640,\n 'usual': 641,\n 'ridiculous': 642,\n 'started': 643,\n 'cool': 644,\n 'body': 645,\n 'level': 646,\n 'view': 647,\n 'relationship': 648,\n 'change': 649,\n 'opinion': 650,\n 'happy': 651,\n 'middle': 652,\n 'taking': 653,\n 'wish': 654,\n 'husband': 655,\n 'finds': 656,\n 'saying': 657,\n 'order': 658,\n 'documentary': 659,\n 'ones': 660,\n 'shots': 661,\n 'talking': 662,\n 'huge': 663,\n 'novel': 664,\n 'female': 665,\n 'mostly': 666,\n 'robert': 667,\n 'power': 668,\n 'episodes': 669,\n 'room': 670,\n 'important': 671,\n 'rating': 672,\n 'talent': 673,\n 'five': 674,\n 'major': 675,\n 'strange': 676,\n 'turned': 677,\n 'word': 678,\n 'modern': 679,\n 'call': 680,\n 'apparently': 681,\n 'disappointed': 682,\n 'single': 683,\n 'events': 684,\n 'due': 685,\n 'four': 686,\n 'songs': 687,\n 'attention': 688,\n 'basically': 689,\n '7': 690,\n 'knows': 691,\n 'clearly': 692,\n 'knew': 693,\n 'supporting': 694,\n 'television': 695,\n 'non': 696,\n 'comic': 697,\n 'british': 698,\n 'fast': 699,\n 'earth': 700,\n 'country': 701,\n 'future': 702,\n 'cheap': 703,\n 'class': 704,\n 'silly': 705,\n '8': 706,\n 'thriller': 707,\n 'king': 708,\n 'problems': 709,\n \"aren't\": 710,\n 'easily': 711,\n 'words': 712,\n 'tells': 713,\n 'miss': 714,\n 'jack': 715,\n 'local': 716,\n 'sequence': 717,\n 'entertainment': 718,\n 'bring': 719,\n 'paul': 720,\n 'beyond': 721,\n 'upon': 722,\n 'whether': 723,\n 'predictable': 724,\n 'moving': 725,\n 'similar': 726,\n 'romantic': 727,\n 'straight': 728,\n 'sets': 729,\n 'review': 730,\n 'falls': 731,\n 'oscar': 732,\n 'mystery': 733,\n 'enjoyable': 734,\n 'appears': 735,\n 'talk': 736,\n 'needs': 737,\n 'rock': 738,\n 'george': 739,\n 'giving': 740,\n 'eye': 741,\n 'within': 742,\n 'richard': 743,\n 'ten': 744,\n 'animation': 745,\n 'message': 746,\n 'theater': 747,\n 'near': 748,\n 'above': 749,\n 'dull': 750,\n 'nearly': 751,\n 'sequel': 752,\n 'points': 753,\n 'theme': 754,\n \"'\": 755,\n 'stand': 756,\n 'mention': 757,\n 'lady': 758,\n 'bunch': 759,\n 'add': 760,\n 'herself': 761,\n 'feels': 762,\n 'release': 763,\n 'red': 764,\n 'team': 765,\n 'storyline': 766,\n 'surprised': 767,\n 'ways': 768,\n 'named': 769,\n 'using': 770,\n \"haven't\": 771,\n 'lots': 772,\n 'easy': 773,\n 'fantastic': 774,\n 'begins': 775,\n 'actual': 776,\n 'working': 777,\n 'effort': 778,\n 'york': 779,\n 'french': 780,\n 'die': 781,\n 'hate': 782,\n 'tale': 783,\n 'minute': 784,\n 'stay': 785,\n 'clear': 786,\n '9': 787,\n 'elements': 788,\n 'feature': 789,\n 'among': 790,\n 'follow': 791,\n 're': 792,\n 'comments': 793,\n 'avoid': 794,\n 'viewers': 795,\n 'sister': 796,\n 'typical': 797,\n 'showing': 798,\n 'editing': 799,\n 'tried': 800,\n \"what's\": 801,\n 'famous': 802,\n 'sorry': 803,\n 'fall': 804,\n 'check': 805,\n 'dialog': 806,\n 'period': 807,\n 'season': 808,\n 'form': 809,\n 'certain': 810,\n 'filmed': 811,\n 'soundtrack': 812,\n 'weak': 813,\n 'means': 814,\n 'buy': 815,\n 'material': 816,\n 'realistic': 817,\n 'somehow': 818,\n 'crime': 819,\n 'figure': 820,\n 'doubt': 821,\n 'gone': 822,\n 'peter': 823,\n 'tom': 824,\n 'kept': 825,\n 'viewing': 826,\n 't': 827,\n 'general': 828,\n 'leads': 829,\n 'greatest': 830,\n 'space': 831,\n 'lame': 832,\n 'dance': 833,\n 'suspense': 834,\n 'brought': 835,\n 'imagine': 836,\n 'third': 837,\n 'atmosphere': 838,\n 'hear': 839,\n 'particular': 840,\n 'whatever': 841,\n 'sequences': 842,\n 'parents': 843,\n 'lee': 844,\n 'move': 845,\n 'indeed': 846,\n 'learn': 847,\n 'rent': 848,\n 'eventually': 849,\n 'de': 850,\n 'note': 851,\n 'average': 852,\n 'wait': 853,\n 'reviews': 854,\n 'deal': 855,\n 'forget': 856,\n 'japanese': 857,\n 'poorly': 858,\n 'sexual': 859,\n 'okay': 860,\n 'premise': 861,\n 'zombie': 862,\n 'surprise': 863,\n 'stage': 864,\n 'believable': 865,\n 'sit': 866,\n 'possibly': 867,\n \"who's\": 868,\n 'decided': 869,\n 'expected': 870,\n \"you've\": 871,\n 'subject': 872,\n 'nature': 873,\n 'became': 874,\n 'free': 875,\n 'difficult': 876,\n 'screenplay': 877,\n 'killing': 878,\n 'truth': 879,\n 'romance': 880,\n 'dr': 881,\n 'nor': 882,\n 'reading': 883,\n 'needed': 884,\n 'question': 885,\n 'leaves': 886,\n 'street': 887,\n '20': 888,\n 'meets': 889,\n 'hot': 890,\n 'unless': 891,\n 'begin': 892,\n 'baby': 893,\n 'imdb': 894,\n 'credits': 895,\n 'otherwise': 896,\n 'superb': 897,\n 'write': 898,\n 'shame': 899,\n \"let's\": 900,\n 'situation': 901,\n 'dramatic': 902,\n 'memorable': 903,\n 'earlier': 904,\n 'directors': 905,\n 'badly': 906,\n 'open': 907,\n 'dog': 908,\n 'meet': 909,\n 'disney': 910,\n 'male': 911,\n 'joe': 912,\n 'weird': 913,\n 'forced': 914,\n 'acted': 915,\n 'emotional': 916,\n 'laughs': 917,\n 'sci': 918,\n 'older': 919,\n 'realize': 920,\n 'society': 921,\n 'dream': 922,\n 'fi': 923,\n 'writers': 924,\n 'interested': 925,\n 'forward': 926,\n 'comment': 927,\n 'footage': 928,\n 'crazy': 929,\n 'deep': 930,\n 'america': 931,\n 'sounds': 932,\n 'plus': 933,\n 'whom': 934,\n 'beauty': 935,\n 'fantasy': 936,\n 'directing': 937,\n 'keeps': 938,\n 'ask': 939,\n 'development': 940,\n 'features': 941,\n 'quickly': 942,\n 'air': 943,\n 'mess': 944,\n 'creepy': 945,\n 'towards': 946,\n 'perfectly': 947,\n 'mark': 948,\n 'worked': 949,\n 'box': 950,\n 'cheesy': 951,\n 'unique': 952,\n 'hands': 953,\n 'setting': 954,\n 'plenty': 955,\n 'previous': 956,\n 'result': 957,\n 'brings': 958,\n 'e': 959,\n 'total': 960,\n 'effect': 961,\n 'personal': 962,\n 'incredibly': 963,\n 'fire': 964,\n 'rate': 965,\n 'monster': 966,\n 'business': 967,\n 'apart': 968,\n 'casting': 969,\n 'leading': 970,\n 'admit': 971,\n 'background': 972,\n 'joke': 973,\n 'powerful': 974,\n 'appear': 975,\n 'girlfriend': 976,\n 'telling': 977,\n 'meant': 978,\n 'hardly': 979,\n 'present': 980,\n 'christmas': 981,\n 'battle': 982,\n 'potential': 983,\n 'create': 984,\n 'bill': 985,\n 'break': 986,\n 'pay': 987,\n 'masterpiece': 988,\n 'political': 989,\n 'gay': 990,\n 'return': 991,\n 'dumb': 992,\n 'fails': 993,\n 'fighting': 994,\n 'various': 995,\n 'portrayed': 996,\n 'era': 997,\n 'secret': 998,\n 'co': 999,\n 'cop': 1000,\n ...}"
     },
     "execution_count": 8,
     "metadata": {},
     "output_type": "execute_result"
    }
   ],
   "source": [
    "tokenizer.word_index"
   ],
   "metadata": {
    "collapsed": false,
    "ExecuteTime": {
     "end_time": "2024-04-21T12:41:41.921664400Z",
     "start_time": "2024-04-21T12:41:41.893545600Z"
    }
   },
   "id": "5a396466f4cd3b13"
  },
  {
   "cell_type": "code",
   "execution_count": 9,
   "outputs": [],
   "source": [
    "encoded = tokenizer.texts_to_sequences(train_data[\"text\"])"
   ],
   "metadata": {
    "collapsed": false,
    "ExecuteTime": {
     "end_time": "2024-04-21T12:41:44.108390800Z",
     "start_time": "2024-04-21T12:41:41.921664400Z"
    }
   },
   "id": "c65b7c393091d0d6"
  },
  {
   "cell_type": "code",
   "execution_count": 10,
   "outputs": [],
   "source": [
    "from keras.preprocessing.sequence import pad_sequences"
   ],
   "metadata": {
    "collapsed": false,
    "ExecuteTime": {
     "end_time": "2024-04-21T12:41:44.123012200Z",
     "start_time": "2024-04-21T12:41:44.116503700Z"
    }
   },
   "id": "11a9b80c2ada73f5"
  },
  {
   "cell_type": "code",
   "execution_count": 11,
   "outputs": [],
   "source": [
    "paded = pad_sequences(encoded,padding=\"post\")"
   ],
   "metadata": {
    "collapsed": false,
    "ExecuteTime": {
     "end_time": "2024-04-21T12:41:44.431508200Z",
     "start_time": "2024-04-21T12:41:44.116503700Z"
    }
   },
   "id": "89930ae1520c825"
  },
  {
   "cell_type": "code",
   "execution_count": 12,
   "outputs": [
    {
     "data": {
      "text/plain": "(25000, 2493)"
     },
     "execution_count": 12,
     "metadata": {},
     "output_type": "execute_result"
    }
   ],
   "source": [
    "paded.shape"
   ],
   "metadata": {
    "collapsed": false,
    "ExecuteTime": {
     "end_time": "2024-04-21T12:41:44.449716700Z",
     "start_time": "2024-04-21T12:41:44.440827500Z"
    }
   },
   "id": "e0a27c3a35c6e182"
  },
  {
   "cell_type": "code",
   "execution_count": 22,
   "outputs": [],
   "source": [
    "from keras.models import Sequential\n",
    "from keras.layers import Embedding,Dense\n",
    "import keras"
   ],
   "metadata": {
    "collapsed": false,
    "ExecuteTime": {
     "end_time": "2024-04-21T12:53:28.695605500Z",
     "start_time": "2024-04-21T12:53:28.674452600Z"
    }
   },
   "id": "d58e5612b47f6f39"
  },
  {
   "cell_type": "code",
   "execution_count": 23,
   "outputs": [],
   "source": [
    "model = Sequential()\n",
    "model.add(Embedding(input_dim=(len(tokenizer.word_index)+1),output_dim=50))\n",
    "model.add(Dense(units=25,activation=\"relu\"))\n",
    "model.add(Dense(units=1,activation=\"sigmoid\"))"
   ],
   "metadata": {
    "collapsed": false,
    "ExecuteTime": {
     "end_time": "2024-04-21T12:53:29.354169900Z",
     "start_time": "2024-04-21T12:53:29.245274900Z"
    }
   },
   "id": "568600e1eee77d77"
  },
  {
   "cell_type": "code",
   "execution_count": 25,
   "outputs": [],
   "source": [
    "#compile\n",
    "model.compile(\n",
    "    metrics = keras.metrics.BinaryAccuracy(),\n",
    "    optimizer= keras.optimizers.AdamW(),\n",
    "    loss=keras.losses.BinaryCrossentropy()\n",
    "    \n",
    ")"
   ],
   "metadata": {
    "collapsed": false,
    "ExecuteTime": {
     "end_time": "2024-04-21T12:53:45.370178800Z",
     "start_time": "2024-04-21T12:53:45.349033400Z"
    }
   },
   "id": "40df02852f53434f"
  },
  {
   "cell_type": "code",
   "execution_count": 34,
   "outputs": [
    {
     "name": "stdout",
     "output_type": "stream",
     "text": [
      "Epoch 1/5\n",
      "112/112 [==============================] - 14s 128ms/step - loss: 0.5855 - binary_accuracy: 0.7429 - val_loss: 1.2951 - val_binary_accuracy: 0.0093\n",
      "Epoch 2/5\n",
      "112/112 [==============================] - 14s 126ms/step - loss: 0.5657 - binary_accuracy: 0.7465 - val_loss: 1.3629 - val_binary_accuracy: 0.0064\n",
      "Epoch 3/5\n",
      "112/112 [==============================] - 15s 135ms/step - loss: 0.5651 - binary_accuracy: 0.7468 - val_loss: 1.3840 - val_binary_accuracy: 0.0053\n",
      "Epoch 4/5\n",
      "112/112 [==============================] - 17s 154ms/step - loss: 0.5648 - binary_accuracy: 0.7470 - val_loss: 1.3023 - val_binary_accuracy: 0.0048\n",
      "Epoch 5/5\n",
      "112/112 [==============================] - 15s 135ms/step - loss: 0.5649 - binary_accuracy: 0.7470 - val_loss: 1.3216 - val_binary_accuracy: 0.0043\n"
     ]
    },
    {
     "data": {
      "text/plain": "<keras.src.callbacks.History at 0x1e58e5774d0>"
     },
     "execution_count": 34,
     "metadata": {},
     "output_type": "execute_result"
    }
   ],
   "source": [
    "model.fit(paded,train_data[\"label\"],batch_size=150,epochs=5,verbose=1,validation_split=0.33)"
   ],
   "metadata": {
    "collapsed": false,
    "ExecuteTime": {
     "end_time": "2024-04-21T12:57:35.792630200Z",
     "start_time": "2024-04-21T12:56:19.649962200Z"
    }
   },
   "id": "236dc22ba9f1bccc"
  },
  {
   "cell_type": "code",
   "execution_count": null,
   "outputs": [],
   "source": [],
   "metadata": {
    "collapsed": false
   },
   "id": "c9843aad3159795e"
  }
 ],
 "metadata": {
  "kernelspec": {
   "display_name": "Python 3",
   "language": "python",
   "name": "python3"
  },
  "language_info": {
   "codemirror_mode": {
    "name": "ipython",
    "version": 2
   },
   "file_extension": ".py",
   "mimetype": "text/x-python",
   "name": "python",
   "nbconvert_exporter": "python",
   "pygments_lexer": "ipython2",
   "version": "2.7.6"
  }
 },
 "nbformat": 4,
 "nbformat_minor": 5
}
