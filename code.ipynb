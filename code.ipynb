{
 "cells": [
  {
   "cell_type": "raw",
   "source": [
    "import libraries"
   ],
   "metadata": {
    "collapsed": false
   },
   "id": "89907a613d6a7c75"
  },
  {
   "cell_type": "code",
   "execution_count": 23,
   "outputs": [],
   "source": [
    "import pandas as pd\n",
    "import numpy as np\n",
    "from nltk.tokenize import word_tokenize\n",
    "from nltk.corpus import stopwords\n",
    "from nltk.stem.porter import PorterStemmer\n",
    "import string\n",
    "from bs4 import BeautifulSoup\n",
    "from sklearn.model_selection import train_test_split\n",
    "from sklearn.feature_extraction.text import TfidfVectorizer,CountVectorizer"
   ],
   "metadata": {
    "collapsed": false,
    "ExecuteTime": {
     "end_time": "2024-04-22T07:17:30.210527Z",
     "start_time": "2024-04-22T07:17:30.184896300Z"
    }
   },
   "id": "b856316ebae7fe68"
  },
  {
   "cell_type": "code",
   "execution_count": 24,
   "outputs": [],
   "source": [
    "# read data\n",
    "data = pd.read_parquet(\"test-00000-of-00001.parquet\")"
   ],
   "metadata": {
    "collapsed": false,
    "ExecuteTime": {
     "end_time": "2024-04-22T07:17:30.626374900Z",
     "start_time": "2024-04-22T07:17:30.555707600Z"
    }
   },
   "id": "aec01f623eea3023"
  },
  {
   "cell_type": "code",
   "execution_count": 25,
   "outputs": [
    {
     "data": {
      "text/plain": "                                                text  label\n0  I love sci-fi and am willing to put up with a ...      0\n1  Worth the entertainment value of a rental, esp...      0\n2  its a totally average film with a few semi-alr...      0\n3  STAR RATING: ***** Saturday Night **** Friday ...      0\n4  First off let me say, If you haven't enjoyed a...      0",
      "text/html": "<div>\n<style scoped>\n    .dataframe tbody tr th:only-of-type {\n        vertical-align: middle;\n    }\n\n    .dataframe tbody tr th {\n        vertical-align: top;\n    }\n\n    .dataframe thead th {\n        text-align: right;\n    }\n</style>\n<table border=\"1\" class=\"dataframe\">\n  <thead>\n    <tr style=\"text-align: right;\">\n      <th></th>\n      <th>text</th>\n      <th>label</th>\n    </tr>\n  </thead>\n  <tbody>\n    <tr>\n      <th>0</th>\n      <td>I love sci-fi and am willing to put up with a ...</td>\n      <td>0</td>\n    </tr>\n    <tr>\n      <th>1</th>\n      <td>Worth the entertainment value of a rental, esp...</td>\n      <td>0</td>\n    </tr>\n    <tr>\n      <th>2</th>\n      <td>its a totally average film with a few semi-alr...</td>\n      <td>0</td>\n    </tr>\n    <tr>\n      <th>3</th>\n      <td>STAR RATING: ***** Saturday Night **** Friday ...</td>\n      <td>0</td>\n    </tr>\n    <tr>\n      <th>4</th>\n      <td>First off let me say, If you haven't enjoyed a...</td>\n      <td>0</td>\n    </tr>\n  </tbody>\n</table>\n</div>"
     },
     "execution_count": 25,
     "metadata": {},
     "output_type": "execute_result"
    }
   ],
   "source": [
    "# see head of data\n",
    "data.head()"
   ],
   "metadata": {
    "collapsed": false,
    "ExecuteTime": {
     "end_time": "2024-04-22T07:17:30.642008600Z",
     "start_time": "2024-04-22T07:17:30.626374900Z"
    }
   },
   "id": "3f4dfa472d07dd57"
  },
  {
   "cell_type": "code",
   "execution_count": 26,
   "outputs": [
    {
     "data": {
      "text/plain": "text     0\nlabel    0\ndtype: int64"
     },
     "execution_count": 26,
     "metadata": {},
     "output_type": "execute_result"
    }
   ],
   "source": [
    "# As we can see there is no nan value in our dataset\n",
    "data.isna().sum()"
   ],
   "metadata": {
    "collapsed": false,
    "ExecuteTime": {
     "end_time": "2024-04-22T07:17:30.688892Z",
     "start_time": "2024-04-22T07:17:30.657639100Z"
    }
   },
   "id": "8ad41196336e7a2a"
  },
  {
   "cell_type": "code",
   "execution_count": 27,
   "outputs": [
    {
     "data": {
      "text/plain": "(25000, 2)"
     },
     "execution_count": 27,
     "metadata": {},
     "output_type": "execute_result"
    }
   ],
   "source": [
    "# the dataset has 50000 rows and 2 columns\n",
    "data.shape"
   ],
   "metadata": {
    "collapsed": false,
    "ExecuteTime": {
     "end_time": "2024-04-22T07:17:30.979804500Z",
     "start_time": "2024-04-22T07:17:30.957650200Z"
    }
   },
   "id": "b614c14629edf088"
  },
  {
   "cell_type": "code",
   "execution_count": 28,
   "outputs": [
    {
     "data": {
      "text/plain": "text     24801\nlabel        2\ndtype: int64"
     },
     "execution_count": 28,
     "metadata": {},
     "output_type": "execute_result"
    }
   ],
   "source": [
    "# Surprisingly there are some duplicate comments\n",
    "data.nunique()"
   ],
   "metadata": {
    "collapsed": false,
    "ExecuteTime": {
     "end_time": "2024-04-22T07:17:31.152762300Z",
     "start_time": "2024-04-22T07:17:31.058719300Z"
    }
   },
   "id": "7183b66978e3478d"
  },
  {
   "cell_type": "raw",
   "source": [
    "show which reviews has repeated:"
   ],
   "metadata": {
    "collapsed": false
   },
   "id": "d7d218f95ecd7ef"
  },
  {
   "cell_type": "code",
   "execution_count": 29,
   "outputs": [],
   "source": [
    "uniq_data_rev = np.unique(data[\"label\"],return_counts=True)\n",
    "review = uniq_data_rev[0]\n",
    "count = uniq_data_rev[1]"
   ],
   "metadata": {
    "collapsed": false,
    "ExecuteTime": {
     "end_time": "2024-04-22T07:17:31.356704800Z",
     "start_time": "2024-04-22T07:17:31.346191600Z"
    }
   },
   "id": "bb4f38d184e68373"
  },
  {
   "cell_type": "code",
   "execution_count": 30,
   "outputs": [
    {
     "data": {
      "text/plain": "array([0, 1], dtype=int64)"
     },
     "execution_count": 30,
     "metadata": {},
     "output_type": "execute_result"
    }
   ],
   "source": [
    "# Now we can see duplicate comments below:\n",
    "review[count > 1]"
   ],
   "metadata": {
    "collapsed": false,
    "ExecuteTime": {
     "end_time": "2024-04-22T07:17:31.529796800Z",
     "start_time": "2024-04-22T07:17:31.482524500Z"
    }
   },
   "id": "72d30520cfeaa64d"
  },
  {
   "cell_type": "code",
   "execution_count": 31,
   "outputs": [],
   "source": [
    "# let's remove (drop) duplicates rows\n",
    "data.drop_duplicates(inplace=True)\n",
    "data.reset_index(drop=True,inplace=True)"
   ],
   "metadata": {
    "collapsed": false,
    "ExecuteTime": {
     "end_time": "2024-04-22T07:17:31.705934200Z",
     "start_time": "2024-04-22T07:17:31.627290500Z"
    }
   },
   "id": "c2ee192dd3623bda"
  },
  {
   "cell_type": "code",
   "execution_count": 32,
   "outputs": [
    {
     "data": {
      "text/plain": "(24801, 2)"
     },
     "execution_count": 32,
     "metadata": {},
     "output_type": "execute_result"
    }
   ],
   "source": [
    "# data shape after drop duuplicates (now it has 49582 rows instead of 50000)\n",
    "data.shape"
   ],
   "metadata": {
    "collapsed": false,
    "ExecuteTime": {
     "end_time": "2024-04-22T07:17:31.768837800Z",
     "start_time": "2024-04-22T07:17:31.753211500Z"
    }
   },
   "id": "e6c8a432d65e6f04"
  },
  {
   "cell_type": "raw",
   "source": [
    "some special text mining text processing steps"
   ],
   "metadata": {
    "collapsed": false
   },
   "id": "c46c87045ba1fea5"
  },
  {
   "cell_type": "code",
   "execution_count": 33,
   "outputs": [],
   "source": [
    "# this library converts any word to its stem (مصدر)\n",
    "stem = PorterStemmer()"
   ],
   "metadata": {
    "collapsed": false,
    "ExecuteTime": {
     "end_time": "2024-04-22T07:17:32.659662500Z",
     "start_time": "2024-04-22T07:17:32.643876800Z"
    }
   },
   "id": "63bf584cf9670f1c"
  },
  {
   "cell_type": "code",
   "execution_count": 34,
   "outputs": [],
   "source": [
    "# punctuation in english like . \" ; ' and others should be removed from text\n",
    "# here we got a list of english punctuations to not consider them\n",
    "punctuations = list(string.punctuation)"
   ],
   "metadata": {
    "collapsed": false,
    "ExecuteTime": {
     "end_time": "2024-04-22T07:17:32.832576600Z",
     "start_time": "2024-04-22T07:17:32.816941200Z"
    }
   },
   "id": "8f99f6b4f5dcb0ba"
  },
  {
   "cell_type": "code",
   "execution_count": 35,
   "outputs": [],
   "source": [
    "#stop words like \"and\" should be removed from text because they won't help the algorithm to work better\n",
    "# and they increase the number of features (they are useless features)\n",
    "# here we got a list of english stopwords\n",
    "stop_words = stopwords.words(\"english\")"
   ],
   "metadata": {
    "collapsed": false,
    "ExecuteTime": {
     "end_time": "2024-04-22T07:17:32.976072200Z",
     "start_time": "2024-04-22T07:17:32.960452200Z"
    }
   },
   "id": "8b89cac3674be5b8"
  },
  {
   "cell_type": "code",
   "execution_count": 36,
   "outputs": [],
   "source": [
    "#let's make a function which do \"text_clearing\"\n",
    "def text_cleaner(text):\n",
    "    # make text lower case\n",
    "    lowtext = text.lower()\n",
    "    \n",
    "    #clear html tags from text\n",
    "    no_htmltag_text = BeautifulSoup(lowtext).getText()\n",
    "    \n",
    "    # word tokenize text\n",
    "    tokens = word_tokenize(no_htmltag_text)\n",
    "    \n",
    "    # fine_tokens will contains words which are sutable to be a feature\n",
    "    fine_tokens = list()\n",
    "    for tok in tokens:\n",
    "        if (not tok.isdigit()) and (tok not in punctuations) and (tok not in stop_words):\n",
    "            stemed_tok= stem.stem(tok)\n",
    "            fine_tokens.append(stemed_tok)\n",
    "    cleaned_text = fine_tokens\n",
    "    return cleaned_text"
   ],
   "metadata": {
    "collapsed": false,
    "ExecuteTime": {
     "end_time": "2024-04-22T07:17:33.306834800Z",
     "start_time": "2024-04-22T07:17:33.291216600Z"
    }
   },
   "id": "71c145f38e739fa9"
  },
  {
   "cell_type": "code",
   "execution_count": 37,
   "outputs": [
    {
     "data": {
      "text/plain": "['wonder', 'littl', 'product', '...']"
     },
     "execution_count": 37,
     "metadata": {},
     "output_type": "execute_result"
    }
   ],
   "source": [
    "# just an example of how text_cleaner def works\n",
    "text_cleaner(\"A wonderful little production. <br /><br />The...\")"
   ],
   "metadata": {
    "collapsed": false,
    "ExecuteTime": {
     "end_time": "2024-04-22T07:17:35.474464Z",
     "start_time": "2024-04-22T07:17:35.443220200Z"
    }
   },
   "id": "808877c43da7106f"
  },
  {
   "cell_type": "code",
   "execution_count": 38,
   "outputs": [
    {
     "name": "stderr",
     "output_type": "stream",
     "text": [
      "C:\\Users\\Mohammad\\AppData\\Local\\Temp\\ipykernel_14628\\2854353559.py:7: MarkupResemblesLocatorWarning: The input looks more like a filename than markup. You may want to open this file and pass the filehandle into Beautiful Soup.\n",
      "  no_htmltag_text = BeautifulSoup(lowtext).getText()\n"
     ]
    }
   ],
   "source": [
    "# apply the function on data (clearing text of review column of data)\n",
    "data['text'] = data['text'].apply(text_cleaner)"
   ],
   "metadata": {
    "collapsed": false,
    "ExecuteTime": {
     "end_time": "2024-04-22T07:19:11.063183300Z",
     "start_time": "2024-04-22T07:17:54.217728600Z"
    }
   },
   "id": "5d36d941f8c5becf"
  },
  {
   "cell_type": "code",
   "execution_count": 40,
   "outputs": [
    {
     "data": {
      "text/plain": "                                                text  label\n0  [love, sci-fi, will, put, lot, sci-fi, movies/...      0\n1  [worth, entertain, valu, rental, especi, like,...      0\n2  [total, averag, film, semi-alright, action, se...      0\n3  [star, rate, saturday, night, friday, night, f...      0\n4  [first, let, say, n't, enjoy, van, damm, movi,...      0",
      "text/html": "<div>\n<style scoped>\n    .dataframe tbody tr th:only-of-type {\n        vertical-align: middle;\n    }\n\n    .dataframe tbody tr th {\n        vertical-align: top;\n    }\n\n    .dataframe thead th {\n        text-align: right;\n    }\n</style>\n<table border=\"1\" class=\"dataframe\">\n  <thead>\n    <tr style=\"text-align: right;\">\n      <th></th>\n      <th>text</th>\n      <th>label</th>\n    </tr>\n  </thead>\n  <tbody>\n    <tr>\n      <th>0</th>\n      <td>[love, sci-fi, will, put, lot, sci-fi, movies/...</td>\n      <td>0</td>\n    </tr>\n    <tr>\n      <th>1</th>\n      <td>[worth, entertain, valu, rental, especi, like,...</td>\n      <td>0</td>\n    </tr>\n    <tr>\n      <th>2</th>\n      <td>[total, averag, film, semi-alright, action, se...</td>\n      <td>0</td>\n    </tr>\n    <tr>\n      <th>3</th>\n      <td>[star, rate, saturday, night, friday, night, f...</td>\n      <td>0</td>\n    </tr>\n    <tr>\n      <th>4</th>\n      <td>[first, let, say, n't, enjoy, van, damm, movi,...</td>\n      <td>0</td>\n    </tr>\n  </tbody>\n</table>\n</div>"
     },
     "execution_count": 40,
     "metadata": {},
     "output_type": "execute_result"
    }
   ],
   "source": [
    "data.head()"
   ],
   "metadata": {
    "collapsed": false,
    "ExecuteTime": {
     "end_time": "2024-04-22T07:20:07.307858300Z",
     "start_time": "2024-04-22T07:20:07.292281100Z"
    }
   },
   "id": "ea88484e4f81a6a4"
  },
  {
   "cell_type": "code",
   "execution_count": 41,
   "outputs": [
    {
     "name": "stderr",
     "output_type": "stream",
     "text": [
      "c:\\users\\mohammad\\appdata\\local\\programs\\python\\python38\\lib\\site-packages\\gensim\\models\\base_any2vec.py:322: UserWarning: C extension not loaded, training will be slow. Install a C compiler and reinstall gensim for fast training.\n",
      "  warnings.warn(\n"
     ]
    }
   ],
   "source": [
    "from gensim.models import Word2Vec\n",
    "\n",
    "sentences = data[\"text\"][:30]\n",
    "\n",
    "model = Word2Vec(sentences, min_count=5)"
   ],
   "metadata": {
    "collapsed": false,
    "ExecuteTime": {
     "end_time": "2024-04-22T07:20:29.702966200Z",
     "start_time": "2024-04-22T07:20:28.861816200Z"
    }
   },
   "id": "c30bb6094e509578"
  },
  {
   "cell_type": "code",
   "execution_count": 44,
   "outputs": [
    {
     "data": {
      "text/plain": "{'sci-fi': <gensim.models.keyedvectors.Vocab at 0x1c8b61463a0>,\n 'put': <gensim.models.keyedvectors.Vocab at 0x1c8b61467f0>,\n 'lot': <gensim.models.keyedvectors.Vocab at 0x1c8b6146220>,\n 'tri': <gensim.models.keyedvectors.Vocab at 0x1c8b61463d0>,\n 'like': <gensim.models.keyedvectors.Vocab at 0x1c8b6146490>,\n 'realli': <gensim.models.keyedvectors.Vocab at 0x1c8b6146430>,\n 'good': <gensim.models.keyedvectors.Vocab at 0x1c8b6146cd0>,\n 'star': <gensim.models.keyedvectors.Vocab at 0x1c8b6146100>,\n 'cheap': <gensim.models.keyedvectors.Vocab at 0x1c8b6146c70>,\n 'dialogu': <gensim.models.keyedvectors.Vocab at 0x1c8b61467c0>,\n \"n't\": <gensim.models.keyedvectors.Vocab at 0x1c8b6146a90>,\n 'charact': <gensim.models.keyedvectors.Vocab at 0x1c8b61464f0>,\n 'think': <gensim.models.keyedvectors.Vocab at 0x1c8b6146640>,\n \"'s\": <gensim.models.keyedvectors.Vocab at 0x1c8b6146bb0>,\n 'us': <gensim.models.keyedvectors.Vocab at 0x1c8b6146130>,\n 'take': <gensim.models.keyedvectors.Vocab at 0x1c8b6146670>,\n 'may': <gensim.models.keyedvectors.Vocab at 0x1c8b6146fa0>,\n 'life': <gensim.models.keyedvectors.Vocab at 0x1c8b61468e0>,\n 'action': <gensim.models.keyedvectors.Vocab at 0x1c8b6146ee0>,\n 'watch': <gensim.models.keyedvectors.Vocab at 0x1c8b6146b50>,\n 'know': <gensim.models.keyedvectors.Vocab at 0x1c8b6146d30>,\n 'alway': <gensim.models.keyedvectors.Vocab at 0x1c8b6146a00>,\n 'say': <gensim.models.keyedvectors.Vocab at 0x1c8b6146550>,\n '``': <gensim.models.keyedvectors.Vocab at 0x1c8b61464c0>,\n '...': <gensim.models.keyedvectors.Vocab at 0x1c8b61469a0>,\n \"''\": <gensim.models.keyedvectors.Vocab at 0x1c8b61468b0>,\n 'peopl': <gensim.models.keyedvectors.Vocab at 0x1c8b61460d0>,\n 'would': <gensim.models.keyedvectors.Vocab at 0x1c8b6146760>,\n 'turn': <gensim.models.keyedvectors.Vocab at 0x1c8b6146eb0>,\n 'kill': <gensim.models.keyedvectors.Vocab at 0x1c8b6146160>,\n 'main': <gensim.models.keyedvectors.Vocab at 0x1c8b61460a0>,\n 'back': <gensim.models.keyedvectors.Vocab at 0x1c8b6146a30>,\n 'actor': <gensim.models.keyedvectors.Vocab at 0x1c8b61466a0>,\n 'worth': <gensim.models.keyedvectors.Vocab at 0x1c8b6146f70>,\n 'especi': <gensim.models.keyedvectors.Vocab at 0x1c8b6146ac0>,\n 'movi': <gensim.models.keyedvectors.Vocab at 0x1c8b6146dc0>,\n 'one': <gensim.models.keyedvectors.Vocab at 0x1c8b6146a60>,\n 'fight': <gensim.models.keyedvectors.Vocab at 0x1c8a27c06a0>,\n 'great': <gensim.models.keyedvectors.Vocab at 0x1c8a27c06d0>,\n 'van': <gensim.models.keyedvectors.Vocab at 0x1c8a27c0a90>,\n 'damm': <gensim.models.keyedvectors.Vocab at 0x1c8a27c08b0>,\n 'even': <gensim.models.keyedvectors.Vocab at 0x1c8a27c0340>,\n 'noth': <gensim.models.keyedvectors.Vocab at 0x1c8a27c0c10>,\n 'plot': <gensim.models.keyedvectors.Vocab at 0x1c8a27c0df0>,\n 'made': <gensim.models.keyedvectors.Vocab at 0x1c8a27c05e0>,\n 'mani': <gensim.models.keyedvectors.Vocab at 0x1c8a27c08e0>,\n 'ladi': <gensim.models.keyedvectors.Vocab at 0x1c8a27c09d0>,\n 'head': <gensim.models.keyedvectors.Vocab at 0x1c8a27c0040>,\n 'look': <gensim.models.keyedvectors.Vocab at 0x1c8a27c0c70>,\n 'act': <gensim.models.keyedvectors.Vocab at 0x1c8a27c0ee0>,\n 'pretti': <gensim.models.keyedvectors.Vocab at 0x1c8a27c0bb0>,\n 'well': <gensim.models.keyedvectors.Vocab at 0x1c8a27c0250>,\n 'end': <gensim.models.keyedvectors.Vocab at 0x1c8b618e070>,\n 'guy': <gensim.models.keyedvectors.Vocab at 0x1c8b618e820>,\n 'bad': <gensim.models.keyedvectors.Vocab at 0x1c8b618e2e0>,\n 'got': <gensim.models.keyedvectors.Vocab at 0x1c8b618e160>,\n 'expect': <gensim.models.keyedvectors.Vocab at 0x1c8b618e040>,\n 'right': <gensim.models.keyedvectors.Vocab at 0x1c8b618e640>,\n 'thing': <gensim.models.keyedvectors.Vocab at 0x1c8b618e4c0>,\n 'found': <gensim.models.keyedvectors.Vocab at 0x1c8b618e580>,\n 'film': <gensim.models.keyedvectors.Vocab at 0x1c8b618e5e0>,\n 'make': <gensim.models.keyedvectors.Vocab at 0x1c8b618e790>,\n 'seem': <gensim.models.keyedvectors.Vocab at 0x1c8b618e310>,\n 'littl': <gensim.models.keyedvectors.Vocab at 0x1c8b618e550>,\n 'better': <gensim.models.keyedvectors.Vocab at 0x1c8b618e370>,\n 'part': <gensim.models.keyedvectors.Vocab at 0x1c8b618e910>,\n 'use': <gensim.models.keyedvectors.Vocab at 0x1c8b618eb20>,\n 'time': <gensim.models.keyedvectors.Vocab at 0x1c8b618e6a0>,\n 'scene': <gensim.models.keyedvectors.Vocab at 0x1c8b618e8b0>,\n 'bit': <gensim.models.keyedvectors.Vocab at 0x1c8b618eee0>,\n 'though': <gensim.models.keyedvectors.Vocab at 0x1c8b618ed30>,\n 'low': <gensim.models.keyedvectors.Vocab at 0x1c8b618e7c0>,\n 'budget': <gensim.models.keyedvectors.Vocab at 0x1c8b618e250>,\n 'night': <gensim.models.keyedvectors.Vocab at 0x1c8b618e9d0>,\n 'special': <gensim.models.keyedvectors.Vocab at 0x1c8b618e130>,\n 'learn': <gensim.models.keyedvectors.Vocab at 0x1c8b618e7f0>,\n 'reason': <gensim.models.keyedvectors.Vocab at 0x1c8b618ee20>,\n 'two': <gensim.models.keyedvectors.Vocab at 0x1c8b618ef70>,\n 'final': <gensim.models.keyedvectors.Vocab at 0x1c8b618eeb0>,\n 'appear': <gensim.models.keyedvectors.Vocab at 0x1c8b618e430>,\n 'could': <gensim.models.keyedvectors.Vocab at 0x1c8b618eac0>,\n 'best': <gensim.models.keyedvectors.Vocab at 0x1c8b618ef40>,\n 'shepherd': <gensim.models.keyedvectors.Vocab at 0x1c8b618edc0>,\n 'first': <gensim.models.keyedvectors.Vocab at 0x1c8b618ebb0>,\n 'way': <gensim.models.keyedvectors.Vocab at 0x1c8b618edf0>,\n 'effect': <gensim.models.keyedvectors.Vocab at 0x1c8b618e280>,\n 'give': <gensim.models.keyedvectors.Vocab at 0x1c8b618ebe0>,\n 'feel': <gensim.models.keyedvectors.Vocab at 0x1c8b618e0d0>,\n 'never': <gensim.models.keyedvectors.Vocab at 0x1c8b618e8e0>,\n 'get': <gensim.models.keyedvectors.Vocab at 0x1c8b618e940>,\n 'let': <gensim.models.keyedvectors.Vocab at 0x1c8b618ee80>,\n 'enjoy': <gensim.models.keyedvectors.Vocab at 0x1c8b618ed00>,\n 'probabl': <gensim.models.keyedvectors.Vocab at 0x1c8a805b370>,\n 'much': <gensim.models.keyedvectors.Vocab at 0x1c8a805b1f0>,\n 'year': <gensim.models.keyedvectors.Vocab at 0x1c8a805b730>,\n 'fan': <gensim.models.keyedvectors.Vocab at 0x1c8a805b4c0>,\n 'hope': <gensim.models.keyedvectors.Vocab at 0x1c8a805b6a0>,\n 'name': <gensim.models.keyedvectors.Vocab at 0x1c8a805b490>,\n 'ever': <gensim.models.keyedvectors.Vocab at 0x1c8a805bdf0>,\n 'go': <gensim.models.keyedvectors.Vocab at 0x1c8a805bf10>,\n 'also': <gensim.models.keyedvectors.Vocab at 0x1c8a805b1c0>,\n 'whole': <gensim.models.keyedvectors.Vocab at 0x1c8a805bd90>,\n 'point': <gensim.models.keyedvectors.Vocab at 0x1c8a805b040>,\n 'undisput': <gensim.models.keyedvectors.Vocab at 0x1c8a805bca0>,\n 'tell': <gensim.models.keyedvectors.Vocab at 0x1c8a805bbe0>,\n 'real': <gensim.models.keyedvectors.Vocab at 0x1c8a805b160>,\n 'unfortun': <gensim.models.keyedvectors.Vocab at 0x1c8a805bcd0>,\n 'live': <gensim.models.keyedvectors.Vocab at 0x1c8a805bb20>,\n 'anyth': <gensim.models.keyedvectors.Vocab at 0x1c8a805bd30>,\n 'want': <gensim.models.keyedvectors.Vocab at 0x1c8a805bd60>,\n 'actual': <gensim.models.keyedvectors.Vocab at 0x1c8a805b940>,\n 'everi': <gensim.models.keyedvectors.Vocab at 0x1c8a805b5e0>,\n 'see': <gensim.models.keyedvectors.Vocab at 0x1c8a805bc70>,\n 'find': <gensim.models.keyedvectors.Vocab at 0x1c8a805b130>,\n 'togeth': <gensim.models.keyedvectors.Vocab at 0x1c8a805b340>,\n 'bore': <gensim.models.keyedvectors.Vocab at 0x1c8a805b280>,\n 'play': <gensim.models.keyedvectors.Vocab at 0x1c8a805b640>,\n 'quit': <gensim.models.keyedvectors.Vocab at 0x1c8a805b400>,\n 'minut': <gensim.models.keyedvectors.Vocab at 0x1c8a805bc10>,\n 'come': <gensim.models.keyedvectors.Vocab at 0x1c8a805ba30>,\n 'mean': <gensim.models.keyedvectors.Vocab at 0x1c8a805b7f0>,\n 'aw': <gensim.models.keyedvectors.Vocab at 0x1c8a805b100>,\n 'script': <gensim.models.keyedvectors.Vocab at 0x1c8a805bb80>,\n 'stay': <gensim.models.keyedvectors.Vocab at 0x1c8a805b250>,\n 'famili': <gensim.models.keyedvectors.Vocab at 0x1c8a805b430>,\n \"'re\": <gensim.models.keyedvectors.Vocab at 0x1c8a805b220>,\n 'around': <gensim.models.keyedvectors.Vocab at 0x1c8a5ba33d0>,\n 'old': <gensim.models.keyedvectors.Vocab at 0x1c8a5ba3910>,\n 'villa': <gensim.models.keyedvectors.Vocab at 0x1c8a5ba3040>,\n 'idea': <gensim.models.keyedvectors.Vocab at 0x1c8a5ba3880>,\n 'hour': <gensim.models.keyedvectors.Vocab at 0x1c8a5ba3610>,\n 'start': <gensim.models.keyedvectors.Vocab at 0x1c8a5ba3400>,\n 'woman': <gensim.models.keyedvectors.Vocab at 0x1c8a5ba31f0>,\n 'hous': <gensim.models.keyedvectors.Vocab at 0x1c8a5ba3c70>,\n 'actress': <gensim.models.keyedvectors.Vocab at 0x1c8a5ba3c10>,\n 'mother': <gensim.models.keyedvectors.Vocab at 0x1c8a5ba3a60>,\n 'die': <gensim.models.keyedvectors.Vocab at 0x1c8a5ba3220>,\n 'slow': <gensim.models.keyedvectors.Vocab at 0x1c8a5da11c0>,\n 'gore': <gensim.models.keyedvectors.Vocab at 0x1c8a5da1610>,\n 'italian': <gensim.models.keyedvectors.Vocab at 0x1c8a5da10d0>,\n 'horror': <gensim.models.keyedvectors.Vocab at 0x1c8a5da1e50>,\n 'girl': <gensim.models.keyedvectors.Vocab at 0x1c8a5da15e0>,\n 'place': <gensim.models.keyedvectors.Vocab at 0x1c8a5da1760>,\n 'becom': <gensim.models.keyedvectors.Vocab at 0x1c8a5da1070>,\n 'pope': <gensim.models.keyedvectors.Vocab at 0x1c8a5da1160>,\n 'stori': <gensim.models.keyedvectors.Vocab at 0x1c8a5da1a60>,\n 'riddl': <gensim.models.keyedvectors.Vocab at 0x1c8a5da1ee0>,\n 'intrigu': <gensim.models.keyedvectors.Vocab at 0x1c8a5da1bb0>,\n 'emili': <gensim.models.keyedvectors.Vocab at 0x1c8a5da1640>}"
     },
     "execution_count": 44,
     "metadata": {},
     "output_type": "execute_result"
    }
   ],
   "source": [
    "model.wv.vocab"
   ],
   "metadata": {
    "collapsed": false,
    "ExecuteTime": {
     "end_time": "2024-04-22T07:20:42.985765700Z",
     "start_time": "2024-04-22T07:20:42.954470600Z"
    }
   },
   "id": "2e5c33df70865b6b"
  },
  {
   "cell_type": "code",
   "execution_count": null,
   "outputs": [],
   "source": [],
   "metadata": {
    "collapsed": false
   },
   "id": "d99d2eb451786f25"
  },
  {
   "cell_type": "code",
   "execution_count": null,
   "outputs": [],
   "source": [],
   "metadata": {
    "collapsed": false
   },
   "id": "8d72c3ef234f048a"
  },
  {
   "cell_type": "code",
   "execution_count": null,
   "outputs": [],
   "source": [],
   "metadata": {
    "collapsed": false
   },
   "id": "6777afcfecfb3e41"
  },
  {
   "cell_type": "code",
   "execution_count": null,
   "outputs": [],
   "source": [],
   "metadata": {
    "collapsed": false
   },
   "id": "f659bd9bde50942c"
  },
  {
   "cell_type": "code",
   "execution_count": null,
   "outputs": [],
   "source": [],
   "metadata": {
    "collapsed": false
   },
   "id": "57b5ffa983509eba"
  },
  {
   "cell_type": "code",
   "execution_count": null,
   "outputs": [],
   "source": [],
   "metadata": {
    "collapsed": false
   },
   "id": "f6a056c12087b311"
  },
  {
   "cell_type": "code",
   "execution_count": null,
   "outputs": [],
   "source": [],
   "metadata": {
    "collapsed": false
   },
   "id": "5d4c1596fadebdf2"
  },
  {
   "cell_type": "code",
   "execution_count": null,
   "outputs": [],
   "source": [],
   "metadata": {
    "collapsed": false
   },
   "id": "e457b69dd50f53cd"
  },
  {
   "cell_type": "code",
   "execution_count": 45,
   "outputs": [],
   "source": [
    "#spliting data to train and test sample\n",
    "X_train, X_test, y_train, y_test = train_test_split(X,y,test_size=0.333,random_state=42)"
   ],
   "metadata": {
    "collapsed": false,
    "ExecuteTime": {
     "end_time": "2024-04-22T07:05:38.098213700Z",
     "start_time": "2024-04-22T07:05:38.065056600Z"
    }
   },
   "id": "452ed8e356f7ed3c"
  }
 ],
 "metadata": {
  "kernelspec": {
   "display_name": "Python 3",
   "language": "python",
   "name": "python3"
  },
  "language_info": {
   "codemirror_mode": {
    "name": "ipython",
    "version": 2
   },
   "file_extension": ".py",
   "mimetype": "text/x-python",
   "name": "python",
   "nbconvert_exporter": "python",
   "pygments_lexer": "ipython2",
   "version": "2.7.6"
  }
 },
 "nbformat": 4,
 "nbformat_minor": 5
}
