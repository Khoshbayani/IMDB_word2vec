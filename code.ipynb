{
 "cells": [
  {
   "cell_type": "raw",
   "source": [
    "import libraries"
   ],
   "metadata": {
    "collapsed": false
   },
   "id": "89907a613d6a7c75"
  },
  {
   "cell_type": "code",
   "execution_count": 40,
   "outputs": [],
   "source": [
    "import pandas as pd\n",
    "import numpy as np\n",
    "from nltk.tokenize import word_tokenize\n",
    "from nltk.corpus import stopwords\n",
    "from nltk.stem.porter import PorterStemmer\n",
    "import string\n",
    "from bs4 import BeautifulSoup\n",
    "from sklearn.model_selection import train_test_split"
   ],
   "metadata": {
    "collapsed": false,
    "ExecuteTime": {
     "end_time": "2024-04-22T14:49:37.605498400Z",
     "start_time": "2024-04-22T14:49:37.172494300Z"
    }
   },
   "id": "b856316ebae7fe68"
  },
  {
   "cell_type": "code",
   "execution_count": 41,
   "outputs": [],
   "source": [
    "# read data\n",
    "data = pd.read_parquet(\"test-00000-of-00001.parquet\")[:20]"
   ],
   "metadata": {
    "collapsed": false,
    "ExecuteTime": {
     "end_time": "2024-04-22T14:49:37.605498400Z",
     "start_time": "2024-04-22T14:49:37.190473700Z"
    }
   },
   "id": "aec01f623eea3023"
  },
  {
   "cell_type": "code",
   "execution_count": 42,
   "outputs": [
    {
     "data": {
      "text/plain": "                                                text  label\n0  I love sci-fi and am willing to put up with a ...      0\n1  Worth the entertainment value of a rental, esp...      0\n2  its a totally average film with a few semi-alr...      0\n3  STAR RATING: ***** Saturday Night **** Friday ...      0\n4  First off let me say, If you haven't enjoyed a...      0",
      "text/html": "<div>\n<style scoped>\n    .dataframe tbody tr th:only-of-type {\n        vertical-align: middle;\n    }\n\n    .dataframe tbody tr th {\n        vertical-align: top;\n    }\n\n    .dataframe thead th {\n        text-align: right;\n    }\n</style>\n<table border=\"1\" class=\"dataframe\">\n  <thead>\n    <tr style=\"text-align: right;\">\n      <th></th>\n      <th>text</th>\n      <th>label</th>\n    </tr>\n  </thead>\n  <tbody>\n    <tr>\n      <th>0</th>\n      <td>I love sci-fi and am willing to put up with a ...</td>\n      <td>0</td>\n    </tr>\n    <tr>\n      <th>1</th>\n      <td>Worth the entertainment value of a rental, esp...</td>\n      <td>0</td>\n    </tr>\n    <tr>\n      <th>2</th>\n      <td>its a totally average film with a few semi-alr...</td>\n      <td>0</td>\n    </tr>\n    <tr>\n      <th>3</th>\n      <td>STAR RATING: ***** Saturday Night **** Friday ...</td>\n      <td>0</td>\n    </tr>\n    <tr>\n      <th>4</th>\n      <td>First off let me say, If you haven't enjoyed a...</td>\n      <td>0</td>\n    </tr>\n  </tbody>\n</table>\n</div>"
     },
     "execution_count": 42,
     "metadata": {},
     "output_type": "execute_result"
    }
   ],
   "source": [
    "# see head of data\n",
    "data.head()"
   ],
   "metadata": {
    "collapsed": false,
    "ExecuteTime": {
     "end_time": "2024-04-22T14:49:37.605498400Z",
     "start_time": "2024-04-22T14:49:37.297006800Z"
    }
   },
   "id": "3f4dfa472d07dd57"
  },
  {
   "cell_type": "code",
   "execution_count": 43,
   "outputs": [
    {
     "data": {
      "text/plain": "text     0\nlabel    0\ndtype: int64"
     },
     "execution_count": 43,
     "metadata": {},
     "output_type": "execute_result"
    }
   ],
   "source": [
    "# As we can see there is no nan value in our dataset\n",
    "data.isna().sum()"
   ],
   "metadata": {
    "collapsed": false,
    "ExecuteTime": {
     "end_time": "2024-04-22T14:49:37.605498400Z",
     "start_time": "2024-04-22T14:49:37.316019100Z"
    }
   },
   "id": "8ad41196336e7a2a"
  },
  {
   "cell_type": "code",
   "execution_count": 44,
   "outputs": [
    {
     "data": {
      "text/plain": "(20, 2)"
     },
     "execution_count": 44,
     "metadata": {},
     "output_type": "execute_result"
    }
   ],
   "source": [
    "# the dataset has 50000 rows and 2 columns\n",
    "data.shape"
   ],
   "metadata": {
    "collapsed": false,
    "ExecuteTime": {
     "end_time": "2024-04-22T14:49:37.606499900Z",
     "start_time": "2024-04-22T14:49:37.330538200Z"
    }
   },
   "id": "b614c14629edf088"
  },
  {
   "cell_type": "code",
   "execution_count": 45,
   "outputs": [
    {
     "data": {
      "text/plain": "text     20\nlabel     1\ndtype: int64"
     },
     "execution_count": 45,
     "metadata": {},
     "output_type": "execute_result"
    }
   ],
   "source": [
    "# Surprisingly there are some duplicate comments\n",
    "data.nunique()"
   ],
   "metadata": {
    "collapsed": false,
    "ExecuteTime": {
     "end_time": "2024-04-22T14:49:37.606499900Z",
     "start_time": "2024-04-22T14:49:37.346545Z"
    }
   },
   "id": "7183b66978e3478d"
  },
  {
   "cell_type": "raw",
   "source": [
    "show which reviews has repeated:"
   ],
   "metadata": {
    "collapsed": false
   },
   "id": "d7d218f95ecd7ef"
  },
  {
   "cell_type": "code",
   "execution_count": 46,
   "outputs": [],
   "source": [
    "uniq_data_rev = np.unique(data[\"label\"],return_counts=True)\n",
    "review = uniq_data_rev[0]\n",
    "count = uniq_data_rev[1]"
   ],
   "metadata": {
    "collapsed": false,
    "ExecuteTime": {
     "end_time": "2024-04-22T14:49:37.606499900Z",
     "start_time": "2024-04-22T14:49:37.361534600Z"
    }
   },
   "id": "bb4f38d184e68373"
  },
  {
   "cell_type": "code",
   "execution_count": 47,
   "outputs": [
    {
     "data": {
      "text/plain": "array([0], dtype=int64)"
     },
     "execution_count": 47,
     "metadata": {},
     "output_type": "execute_result"
    }
   ],
   "source": [
    "# Now we can see duplicate comments below:\n",
    "review[count > 1]"
   ],
   "metadata": {
    "collapsed": false,
    "ExecuteTime": {
     "end_time": "2024-04-22T14:49:37.607500500Z",
     "start_time": "2024-04-22T14:49:37.378535200Z"
    }
   },
   "id": "72d30520cfeaa64d"
  },
  {
   "cell_type": "code",
   "execution_count": 48,
   "outputs": [],
   "source": [
    "# let's remove (drop) duplicates rows\n",
    "data.drop_duplicates(inplace=True)\n",
    "data.reset_index(drop=True,inplace=True)"
   ],
   "metadata": {
    "collapsed": false,
    "ExecuteTime": {
     "end_time": "2024-04-22T14:49:37.607500500Z",
     "start_time": "2024-04-22T14:49:37.391660200Z"
    }
   },
   "id": "c2ee192dd3623bda"
  },
  {
   "cell_type": "code",
   "execution_count": 49,
   "outputs": [
    {
     "data": {
      "text/plain": "(20, 2)"
     },
     "execution_count": 49,
     "metadata": {},
     "output_type": "execute_result"
    }
   ],
   "source": [
    "# data shape after drop duuplicates (now it has 49582 rows instead of 50000)\n",
    "data.shape"
   ],
   "metadata": {
    "collapsed": false,
    "ExecuteTime": {
     "end_time": "2024-04-22T14:49:37.607500500Z",
     "start_time": "2024-04-22T14:49:37.409673800Z"
    }
   },
   "id": "e6c8a432d65e6f04"
  },
  {
   "cell_type": "raw",
   "source": [
    "some special text mining text processing steps"
   ],
   "metadata": {
    "collapsed": false
   },
   "id": "c46c87045ba1fea5"
  },
  {
   "cell_type": "code",
   "execution_count": 50,
   "outputs": [],
   "source": [
    "# this library converts any word to its stem (مصدر)\n",
    "stem = PorterStemmer()"
   ],
   "metadata": {
    "collapsed": false,
    "ExecuteTime": {
     "end_time": "2024-04-22T14:49:37.607500500Z",
     "start_time": "2024-04-22T14:49:37.423844Z"
    }
   },
   "id": "63bf584cf9670f1c"
  },
  {
   "cell_type": "code",
   "execution_count": 51,
   "outputs": [],
   "source": [
    "# punctuation in english like . \" ; ' and others should be removed from text\n",
    "# here we got a list of english punctuations to not consider them\n",
    "punctuations = list(string.punctuation)"
   ],
   "metadata": {
    "collapsed": false,
    "ExecuteTime": {
     "end_time": "2024-04-22T14:49:37.607500500Z",
     "start_time": "2024-04-22T14:49:37.438907200Z"
    }
   },
   "id": "8f99f6b4f5dcb0ba"
  },
  {
   "cell_type": "code",
   "execution_count": 52,
   "outputs": [],
   "source": [
    "#stop words like \"and\" should be removed from text because they won't help the algorithm to work better\n",
    "# and they increase the number of features (they are useless features)\n",
    "# here we got a list of english stopwords\n",
    "stop_words = stopwords.words(\"english\")"
   ],
   "metadata": {
    "collapsed": false,
    "ExecuteTime": {
     "end_time": "2024-04-22T14:49:37.607500500Z",
     "start_time": "2024-04-22T14:49:37.455789300Z"
    }
   },
   "id": "8b89cac3674be5b8"
  },
  {
   "cell_type": "code",
   "execution_count": 53,
   "outputs": [],
   "source": [
    "#let's make a function which do \"text_clearing\"\n",
    "def text_cleaner(text):    \n",
    "    # make text lower case\n",
    "    lowtext = text.lower()\n",
    "    \n",
    "    #clear html tags from text\n",
    "    no_htmltag_text = BeautifulSoup(lowtext).getText()\n",
    "    \n",
    "    # word tokenize text\n",
    "    tokens = word_tokenize(no_htmltag_text)\n",
    "    \n",
    "    # fine_tokens will contains words which are sutable to be a feature\n",
    "    fine_tokens = list()\n",
    "    for tok in tokens:\n",
    "        if (not tok.isdigit()) and (tok not in punctuations) and (tok not in stop_words):\n",
    "            stemed_tok= stem.stem(tok)\n",
    "            fine_tokens.append(stemed_tok)\n",
    "    cleaned_text = \" \".join(fine_tokens)\n",
    "    return cleaned_text"
   ],
   "metadata": {
    "collapsed": false,
    "ExecuteTime": {
     "end_time": "2024-04-22T14:49:37.607500500Z",
     "start_time": "2024-04-22T14:49:37.474801900Z"
    }
   },
   "id": "71c145f38e739fa9"
  },
  {
   "cell_type": "code",
   "execution_count": 54,
   "outputs": [
    {
     "data": {
      "text/plain": "'wonder littl product ...'"
     },
     "execution_count": 54,
     "metadata": {},
     "output_type": "execute_result"
    }
   ],
   "source": [
    "# just an example of how text_cleaner def works\n",
    "text_cleaner(\"A wonderful little production. <br /><br />The...\")"
   ],
   "metadata": {
    "collapsed": false,
    "ExecuteTime": {
     "end_time": "2024-04-22T14:49:37.608499900Z",
     "start_time": "2024-04-22T14:49:37.485236400Z"
    }
   },
   "id": "808877c43da7106f"
  },
  {
   "cell_type": "code",
   "execution_count": 55,
   "outputs": [],
   "source": [
    "# apply the function on data (clearing text of review column of data)\n",
    "data['text'] = data['text'].apply(text_cleaner)"
   ],
   "metadata": {
    "collapsed": false,
    "ExecuteTime": {
     "end_time": "2024-04-22T14:49:37.608499900Z",
     "start_time": "2024-04-22T14:49:37.502299600Z"
    }
   },
   "id": "5d36d941f8c5becf"
  },
  {
   "cell_type": "code",
   "execution_count": 56,
   "outputs": [
    {
     "data": {
      "text/plain": "0    love sci-fi will put lot sci-fi movies/tv usua...\n1    worth entertain valu rental especi like action...\n2    total averag film semi-alright action sequenc ...\n3    star rate saturday night friday night friday m...\n4    first let say n't enjoy van damm movi sinc blo...\nName: text, dtype: object"
     },
     "execution_count": 56,
     "metadata": {},
     "output_type": "execute_result"
    }
   ],
   "source": [
    "data[\"text\"].head()"
   ],
   "metadata": {
    "collapsed": false,
    "ExecuteTime": {
     "end_time": "2024-04-22T14:49:37.672045Z",
     "start_time": "2024-04-22T14:49:37.597492200Z"
    }
   },
   "id": "ea88484e4f81a6a4"
  },
  {
   "cell_type": "code",
   "execution_count": 57,
   "outputs": [],
   "source": [
    "dlis = []\n",
    "for d in data[\"text\"]:\n",
    "    dlis.append(len(d.split(\" \")))"
   ],
   "metadata": {
    "collapsed": false,
    "ExecuteTime": {
     "end_time": "2024-04-22T14:49:37.672045Z",
     "start_time": "2024-04-22T14:49:37.613500300Z"
    }
   },
   "id": "f7fa2a80bf1ccf80"
  },
  {
   "cell_type": "code",
   "execution_count": 58,
   "outputs": [
    {
     "data": {
      "text/plain": "(array([1., 1., 3., 0., 1., 0., 0., 0., 1., 1., 1., 0., 1., 1., 1., 0., 0.,\n        0., 0., 1., 0., 1., 1., 0., 1., 0., 1., 0., 1., 0., 0., 0., 0., 0.,\n        0., 0., 0., 0., 0., 0., 0., 0., 0., 0., 0., 0., 0., 0., 1., 1.]),\n array([ 59.  ,  61.94,  64.88,  67.82,  70.76,  73.7 ,  76.64,  79.58,\n         82.52,  85.46,  88.4 ,  91.34,  94.28,  97.22, 100.16, 103.1 ,\n        106.04, 108.98, 111.92, 114.86, 117.8 , 120.74, 123.68, 126.62,\n        129.56, 132.5 , 135.44, 138.38, 141.32, 144.26, 147.2 , 150.14,\n        153.08, 156.02, 158.96, 161.9 , 164.84, 167.78, 170.72, 173.66,\n        176.6 , 179.54, 182.48, 185.42, 188.36, 191.3 , 194.24, 197.18,\n        200.12, 203.06, 206.  ]),\n <BarContainer object of 50 artists>)"
     },
     "execution_count": 58,
     "metadata": {},
     "output_type": "execute_result"
    },
    {
     "data": {
      "text/plain": "<Figure size 640x480 with 1 Axes>",
      "image/png": "[encoded data removed]"
     },
     "metadata": {},
     "output_type": "display_data"
    }
   ],
   "source": [
    "import matplotlib.pyplot as plt\n",
    "plt.hist(dlis,bins=50)\n",
    "# so max len should be 300 in my openion"
   ],
   "metadata": {
    "collapsed": false,
    "ExecuteTime": {
     "end_time": "2024-04-22T14:49:37.930469400Z",
     "start_time": "2024-04-22T14:49:37.630014600Z"
    }
   },
   "id": "b84a13e5d8ebf97c"
  },
  {
   "cell_type": "code",
   "execution_count": 59,
   "outputs": [],
   "source": [
    "data_text = []\n",
    "for i in range(len(data)):\n",
    "    d = (data[\"text\"][i].split(\" \"))[:300]\n",
    "    for s in range(300 - len(d)):\n",
    "        d.append(\"<pad>\")\n",
    "    data_text.append(d)\n",
    "        "
   ],
   "metadata": {
    "collapsed": false,
    "ExecuteTime": {
     "end_time": "2024-04-22T14:49:37.930469400Z",
     "start_time": "2024-04-22T14:49:37.900055300Z"
    }
   },
   "id": "16e76cef99083384"
  },
  {
   "cell_type": "code",
   "execution_count": 60,
   "outputs": [],
   "source": [
    "# from keras.preprocessing.text import Tokenizer\n",
    "# tokenizer = Tokenizer()\n",
    "# tokenizer.fit_on_texts(data[\"text\"])"
   ],
   "metadata": {
    "collapsed": false,
    "ExecuteTime": {
     "end_time": "2024-04-22T14:49:37.931472900Z",
     "start_time": "2024-04-22T14:49:37.910031600Z"
    }
   },
   "id": "190dcd7b0176b5b2"
  },
  {
   "cell_type": "code",
   "execution_count": 61,
   "outputs": [],
   "source": [
    "# encoded = tokenizer.texts_to_sequences(data[\"text\"])"
   ],
   "metadata": {
    "collapsed": false,
    "ExecuteTime": {
     "end_time": "2024-04-22T14:49:37.948472600Z",
     "start_time": "2024-04-22T14:49:37.926472700Z"
    }
   },
   "id": "adf4a5b3c88368e"
  },
  {
   "cell_type": "code",
   "execution_count": 62,
   "outputs": [],
   "source": [
    "# from keras.preprocessing.sequence import pad_sequences\n",
    "# paded = pad_sequences(encoded,maxlen=100,padding=\"post\")"
   ],
   "metadata": {
    "collapsed": false,
    "ExecuteTime": {
     "end_time": "2024-04-22T14:49:37.991527100Z",
     "start_time": "2024-04-22T14:49:37.943469Z"
    }
   },
   "id": "c45fadd44561ff8b"
  },
  {
   "cell_type": "code",
   "execution_count": 63,
   "outputs": [
    {
     "name": "stderr",
     "output_type": "stream",
     "text": [
      "c:\\users\\mohammad\\appdata\\local\\programs\\python\\python38\\lib\\site-packages\\gensim\\models\\base_any2vec.py:322: UserWarning: C extension not loaded, training will be slow. Install a C compiler and reinstall gensim for fast training.\n",
      "  warnings.warn(\n"
     ]
    }
   ],
   "source": [
    "from gensim.models import Word2Vec\n",
    "\n",
    "sentences = data_text\n",
    "\n",
    "model = Word2Vec(sentences,min_count=1)"
   ],
   "metadata": {
    "collapsed": false,
    "ExecuteTime": {
     "end_time": "2024-04-22T14:49:40.630052100Z",
     "start_time": "2024-04-22T14:49:37.959530500Z"
    }
   },
   "id": "c30bb6094e509578"
  },
  {
   "cell_type": "code",
   "execution_count": 64,
   "outputs": [],
   "source": [
    "# list(model.wv.vocab)"
   ],
   "metadata": {
    "collapsed": false,
    "ExecuteTime": {
     "end_time": "2024-04-22T14:49:40.645880500Z",
     "start_time": "2024-04-22T14:49:40.632055100Z"
    }
   },
   "id": "2e5c33df70865b6b"
  },
  {
   "cell_type": "code",
   "execution_count": 65,
   "outputs": [
    {
     "data": {
      "text/plain": "array([-0.00281086, -0.00582743,  0.00385409, -0.00015076, -0.01512071,\n       -0.01947593, -0.0076694 ,  0.00935048,  0.02243316, -0.00626046,\n       -0.00800587,  0.00901211, -0.012091  , -0.00787277,  0.01202563,\n       -0.00888254, -0.01747866,  0.00383031,  0.00453406, -0.00115861,\n        0.0055733 ,  0.01191551,  0.00950265,  0.01318929,  0.00501063,\n        0.00644541, -0.00237291, -0.01136323,  0.01112186, -0.01118645,\n        0.00876825,  0.00380243,  0.00550717, -0.02034295,  0.00124532,\n        0.00136779,  0.000965  , -0.00505904, -0.00474375, -0.00201678,\n       -0.00500102, -0.00917562,  0.00564252,  0.01490801, -0.00485878,\n        0.01645022, -0.01707733, -0.00313226,  0.01507907,  0.0079564 ,\n        0.01654629, -0.0097253 , -0.00934053,  0.01401316,  0.00292984,\n        0.00104117,  0.00156603,  0.00533124,  0.00345733, -0.00326908,\n        0.00231214, -0.00493189,  0.00585195, -0.00957273, -0.0087679 ,\n        0.01049494,  0.01210383,  0.01354942,  0.00602531,  0.00969731,\n       -0.00084172, -0.0049337 , -0.011083  , -0.01385687,  0.00217657,\n        0.00053238,  0.00106388,  0.00160394,  0.00814063, -0.02281496,\n        0.00932971,  0.00471752,  0.01146757,  0.00658389, -0.01308795,\n       -0.01085765,  0.00651596,  0.00254291,  0.00834719, -0.01598795,\n       -0.00787112, -0.00259937, -0.01913302, -0.0154736 , -0.01296581,\n       -0.00376993, -0.00379801,  0.01259072, -0.01013133,  0.00303559],\n      dtype=float32)"
     },
     "execution_count": 65,
     "metadata": {},
     "output_type": "execute_result"
    }
   ],
   "source": [
    "model.wv.__getitem__(\"idea\")"
   ],
   "metadata": {
    "collapsed": false,
    "ExecuteTime": {
     "end_time": "2024-04-22T14:49:40.680876900Z",
     "start_time": "2024-04-22T14:49:40.647881100Z"
    }
   },
   "id": "d99d2eb451786f25"
  },
  {
   "cell_type": "code",
   "execution_count": 66,
   "outputs": [],
   "source": [
    "tok_array = []\n",
    "for sentence in data_text:\n",
    "    sent_array = []\n",
    "    for word in sentence:\n",
    "        word_vect = model.wv.__getitem__(word)\n",
    "        sent_array.append(np.asarray(word_vect))\n",
    "    else:\n",
    "        tok_array.append(np.asarray(sent_array))\n",
    "        \n",
    "tok_array = np.asarray(tok_array)"
   ],
   "metadata": {
    "collapsed": false,
    "ExecuteTime": {
     "end_time": "2024-04-22T14:49:40.696880900Z",
     "start_time": "2024-04-22T14:49:40.667892100Z"
    }
   },
   "id": "8d72c3ef234f048a"
  },
  {
   "cell_type": "code",
   "execution_count": 80,
   "outputs": [
    {
     "data": {
      "text/plain": "(20, 300, 100)"
     },
     "execution_count": 80,
     "metadata": {},
     "output_type": "execute_result"
    }
   ],
   "source": [
    "tok_array.shape"
   ],
   "metadata": {
    "collapsed": false,
    "ExecuteTime": {
     "end_time": "2024-04-22T14:54:46.992988800Z",
     "start_time": "2024-04-22T14:54:46.961354600Z"
    }
   },
   "id": "bcf5805887b3204b"
  },
  {
   "cell_type": "code",
   "execution_count": 68,
   "outputs": [
    {
     "data": {
      "text/plain": "(20,)"
     },
     "execution_count": 68,
     "metadata": {},
     "output_type": "execute_result"
    }
   ],
   "source": [
    "data[\"label\"].shape"
   ],
   "metadata": {
    "collapsed": false,
    "ExecuteTime": {
     "end_time": "2024-04-22T14:49:40.754023300Z",
     "start_time": "2024-04-22T14:49:40.709875900Z"
    }
   },
   "id": "bea7d003566aa1de"
  },
  {
   "cell_type": "code",
   "execution_count": 68,
   "outputs": [],
   "source": [],
   "metadata": {
    "collapsed": false,
    "ExecuteTime": {
     "end_time": "2024-04-22T14:49:40.754023300Z",
     "start_time": "2024-04-22T14:49:40.724590300Z"
    }
   },
   "id": "f6a056c12087b311"
  },
  {
   "cell_type": "code",
   "execution_count": 68,
   "outputs": [],
   "source": [],
   "metadata": {
    "collapsed": false,
    "ExecuteTime": {
     "end_time": "2024-04-22T14:49:40.780788500Z",
     "start_time": "2024-04-22T14:49:40.742408800Z"
    }
   },
   "id": "5d4c1596fadebdf2"
  },
  {
   "cell_type": "code",
   "execution_count": 68,
   "outputs": [],
   "source": [],
   "metadata": {
    "collapsed": false,
    "ExecuteTime": {
     "end_time": "2024-04-22T14:49:40.784843700Z",
     "start_time": "2024-04-22T14:49:40.757032900Z"
    }
   },
   "id": "e457b69dd50f53cd"
  },
  {
   "cell_type": "code",
   "execution_count": 69,
   "outputs": [],
   "source": [
    "#spliting data to train and test sample\n",
    "X_train, X_test, y_train, y_test = train_test_split(tok_array,data[\"label\"],test_size=0.333,random_state=42)"
   ],
   "metadata": {
    "collapsed": false,
    "ExecuteTime": {
     "end_time": "2024-04-22T14:49:40.864146700Z",
     "start_time": "2024-04-22T14:49:40.775789300Z"
    }
   },
   "id": "452ed8e356f7ed3c"
  },
  {
   "cell_type": "code",
   "execution_count": null,
   "outputs": [],
   "source": [],
   "metadata": {
    "collapsed": false
   },
   "id": "dc2d69ec11a6772f"
  },
  {
   "cell_type": "code",
   "execution_count": 78,
   "outputs": [
    {
     "ename": "ValueError",
     "evalue": "Found array with dim 3. KNeighborsClassifier expected <= 2.",
     "output_type": "error",
     "traceback": [
      "\u001B[1;31m---------------------------------------------------------------------------\u001B[0m",
      "\u001B[1;31mValueError\u001B[0m                                Traceback (most recent call last)",
      "Cell \u001B[1;32mIn[78], line 3\u001B[0m\n\u001B[0;32m      1\u001B[0m \u001B[38;5;28;01mfrom\u001B[39;00m \u001B[38;5;21;01msklearn\u001B[39;00m\u001B[38;5;21;01m.\u001B[39;00m\u001B[38;5;21;01mneighbors\u001B[39;00m \u001B[38;5;28;01mimport\u001B[39;00m KNeighborsClassifier\n\u001B[0;32m      2\u001B[0m knn \u001B[38;5;241m=\u001B[39m KNeighborsClassifier()\n\u001B[1;32m----> 3\u001B[0m \u001B[43mknn\u001B[49m\u001B[38;5;241;43m.\u001B[39;49m\u001B[43mfit\u001B[49m\u001B[43m(\u001B[49m\u001B[43mX_train\u001B[49m\u001B[43m,\u001B[49m\u001B[43my_train\u001B[49m\u001B[43m)\u001B[49m\n",
      "File \u001B[1;32mc:\\users\\mohammad\\appdata\\local\\programs\\python\\python38\\lib\\site-packages\\sklearn\\base.py:1152\u001B[0m, in \u001B[0;36m_fit_context.<locals>.decorator.<locals>.wrapper\u001B[1;34m(estimator, *args, **kwargs)\u001B[0m\n\u001B[0;32m   1145\u001B[0m     estimator\u001B[38;5;241m.\u001B[39m_validate_params()\n\u001B[0;32m   1147\u001B[0m \u001B[38;5;28;01mwith\u001B[39;00m config_context(\n\u001B[0;32m   1148\u001B[0m     skip_parameter_validation\u001B[38;5;241m=\u001B[39m(\n\u001B[0;32m   1149\u001B[0m         prefer_skip_nested_validation \u001B[38;5;129;01mor\u001B[39;00m global_skip_validation\n\u001B[0;32m   1150\u001B[0m     )\n\u001B[0;32m   1151\u001B[0m ):\n\u001B[1;32m-> 1152\u001B[0m     \u001B[38;5;28;01mreturn\u001B[39;00m \u001B[43mfit_method\u001B[49m\u001B[43m(\u001B[49m\u001B[43mestimator\u001B[49m\u001B[43m,\u001B[49m\u001B[43m \u001B[49m\u001B[38;5;241;43m*\u001B[39;49m\u001B[43margs\u001B[49m\u001B[43m,\u001B[49m\u001B[43m \u001B[49m\u001B[38;5;241;43m*\u001B[39;49m\u001B[38;5;241;43m*\u001B[39;49m\u001B[43mkwargs\u001B[49m\u001B[43m)\u001B[49m\n",
      "File \u001B[1;32mc:\\users\\mohammad\\appdata\\local\\programs\\python\\python38\\lib\\site-packages\\sklearn\\neighbors\\_classification.py:233\u001B[0m, in \u001B[0;36mKNeighborsClassifier.fit\u001B[1;34m(self, X, y)\u001B[0m\n\u001B[0;32m    211\u001B[0m \u001B[38;5;129m@_fit_context\u001B[39m(\n\u001B[0;32m    212\u001B[0m     \u001B[38;5;66;03m# KNeighborsClassifier.metric is not validated yet\u001B[39;00m\n\u001B[0;32m    213\u001B[0m     prefer_skip_nested_validation\u001B[38;5;241m=\u001B[39m\u001B[38;5;28;01mFalse\u001B[39;00m\n\u001B[0;32m    214\u001B[0m )\n\u001B[0;32m    215\u001B[0m \u001B[38;5;28;01mdef\u001B[39;00m \u001B[38;5;21mfit\u001B[39m(\u001B[38;5;28mself\u001B[39m, X, y):\n\u001B[0;32m    216\u001B[0m \u001B[38;5;250m    \u001B[39m\u001B[38;5;124;03m\"\"\"Fit the k-nearest neighbors classifier from the training dataset.\u001B[39;00m\n\u001B[0;32m    217\u001B[0m \n\u001B[0;32m    218\u001B[0m \u001B[38;5;124;03m    Parameters\u001B[39;00m\n\u001B[1;32m   (...)\u001B[0m\n\u001B[0;32m    231\u001B[0m \u001B[38;5;124;03m        The fitted k-nearest neighbors classifier.\u001B[39;00m\n\u001B[0;32m    232\u001B[0m \u001B[38;5;124;03m    \"\"\"\u001B[39;00m\n\u001B[1;32m--> 233\u001B[0m     \u001B[38;5;28;01mreturn\u001B[39;00m \u001B[38;5;28;43mself\u001B[39;49m\u001B[38;5;241;43m.\u001B[39;49m\u001B[43m_fit\u001B[49m\u001B[43m(\u001B[49m\u001B[43mX\u001B[49m\u001B[43m,\u001B[49m\u001B[43m \u001B[49m\u001B[43my\u001B[49m\u001B[43m)\u001B[49m\n",
      "File \u001B[1;32mc:\\users\\mohammad\\appdata\\local\\programs\\python\\python38\\lib\\site-packages\\sklearn\\neighbors\\_base.py:456\u001B[0m, in \u001B[0;36mNeighborsBase._fit\u001B[1;34m(self, X, y)\u001B[0m\n\u001B[0;32m    454\u001B[0m \u001B[38;5;28;01mif\u001B[39;00m \u001B[38;5;28mself\u001B[39m\u001B[38;5;241m.\u001B[39m_get_tags()[\u001B[38;5;124m\"\u001B[39m\u001B[38;5;124mrequires_y\u001B[39m\u001B[38;5;124m\"\u001B[39m]:\n\u001B[0;32m    455\u001B[0m     \u001B[38;5;28;01mif\u001B[39;00m \u001B[38;5;129;01mnot\u001B[39;00m \u001B[38;5;28misinstance\u001B[39m(X, (KDTree, BallTree, NeighborsBase)):\n\u001B[1;32m--> 456\u001B[0m         X, y \u001B[38;5;241m=\u001B[39m \u001B[38;5;28;43mself\u001B[39;49m\u001B[38;5;241;43m.\u001B[39;49m\u001B[43m_validate_data\u001B[49m\u001B[43m(\u001B[49m\n\u001B[0;32m    457\u001B[0m \u001B[43m            \u001B[49m\u001B[43mX\u001B[49m\u001B[43m,\u001B[49m\u001B[43m \u001B[49m\u001B[43my\u001B[49m\u001B[43m,\u001B[49m\u001B[43m \u001B[49m\u001B[43maccept_sparse\u001B[49m\u001B[38;5;241;43m=\u001B[39;49m\u001B[38;5;124;43m\"\u001B[39;49m\u001B[38;5;124;43mcsr\u001B[39;49m\u001B[38;5;124;43m\"\u001B[39;49m\u001B[43m,\u001B[49m\u001B[43m \u001B[49m\u001B[43mmulti_output\u001B[49m\u001B[38;5;241;43m=\u001B[39;49m\u001B[38;5;28;43;01mTrue\u001B[39;49;00m\u001B[43m,\u001B[49m\u001B[43m \u001B[49m\u001B[43morder\u001B[49m\u001B[38;5;241;43m=\u001B[39;49m\u001B[38;5;124;43m\"\u001B[39;49m\u001B[38;5;124;43mC\u001B[39;49m\u001B[38;5;124;43m\"\u001B[39;49m\n\u001B[0;32m    458\u001B[0m \u001B[43m        \u001B[49m\u001B[43m)\u001B[49m\n\u001B[0;32m    460\u001B[0m     \u001B[38;5;28;01mif\u001B[39;00m is_classifier(\u001B[38;5;28mself\u001B[39m):\n\u001B[0;32m    461\u001B[0m         \u001B[38;5;66;03m# Classification targets require a specific format\u001B[39;00m\n\u001B[0;32m    462\u001B[0m         \u001B[38;5;28;01mif\u001B[39;00m y\u001B[38;5;241m.\u001B[39mndim \u001B[38;5;241m==\u001B[39m \u001B[38;5;241m1\u001B[39m \u001B[38;5;129;01mor\u001B[39;00m y\u001B[38;5;241m.\u001B[39mndim \u001B[38;5;241m==\u001B[39m \u001B[38;5;241m2\u001B[39m \u001B[38;5;129;01mand\u001B[39;00m y\u001B[38;5;241m.\u001B[39mshape[\u001B[38;5;241m1\u001B[39m] \u001B[38;5;241m==\u001B[39m \u001B[38;5;241m1\u001B[39m:\n",
      "File \u001B[1;32mc:\\users\\mohammad\\appdata\\local\\programs\\python\\python38\\lib\\site-packages\\sklearn\\base.py:622\u001B[0m, in \u001B[0;36mBaseEstimator._validate_data\u001B[1;34m(self, X, y, reset, validate_separately, cast_to_ndarray, **check_params)\u001B[0m\n\u001B[0;32m    620\u001B[0m         y \u001B[38;5;241m=\u001B[39m check_array(y, input_name\u001B[38;5;241m=\u001B[39m\u001B[38;5;124m\"\u001B[39m\u001B[38;5;124my\u001B[39m\u001B[38;5;124m\"\u001B[39m, \u001B[38;5;241m*\u001B[39m\u001B[38;5;241m*\u001B[39mcheck_y_params)\n\u001B[0;32m    621\u001B[0m     \u001B[38;5;28;01melse\u001B[39;00m:\n\u001B[1;32m--> 622\u001B[0m         X, y \u001B[38;5;241m=\u001B[39m \u001B[43mcheck_X_y\u001B[49m\u001B[43m(\u001B[49m\u001B[43mX\u001B[49m\u001B[43m,\u001B[49m\u001B[43m \u001B[49m\u001B[43my\u001B[49m\u001B[43m,\u001B[49m\u001B[43m \u001B[49m\u001B[38;5;241;43m*\u001B[39;49m\u001B[38;5;241;43m*\u001B[39;49m\u001B[43mcheck_params\u001B[49m\u001B[43m)\u001B[49m\n\u001B[0;32m    623\u001B[0m     out \u001B[38;5;241m=\u001B[39m X, y\n\u001B[0;32m    625\u001B[0m \u001B[38;5;28;01mif\u001B[39;00m \u001B[38;5;129;01mnot\u001B[39;00m no_val_X \u001B[38;5;129;01mand\u001B[39;00m check_params\u001B[38;5;241m.\u001B[39mget(\u001B[38;5;124m\"\u001B[39m\u001B[38;5;124mensure_2d\u001B[39m\u001B[38;5;124m\"\u001B[39m, \u001B[38;5;28;01mTrue\u001B[39;00m):\n",
      "File \u001B[1;32mc:\\users\\mohammad\\appdata\\local\\programs\\python\\python38\\lib\\site-packages\\sklearn\\utils\\validation.py:1146\u001B[0m, in \u001B[0;36mcheck_X_y\u001B[1;34m(X, y, accept_sparse, accept_large_sparse, dtype, order, copy, force_all_finite, ensure_2d, allow_nd, multi_output, ensure_min_samples, ensure_min_features, y_numeric, estimator)\u001B[0m\n\u001B[0;32m   1141\u001B[0m         estimator_name \u001B[38;5;241m=\u001B[39m _check_estimator_name(estimator)\n\u001B[0;32m   1142\u001B[0m     \u001B[38;5;28;01mraise\u001B[39;00m \u001B[38;5;167;01mValueError\u001B[39;00m(\n\u001B[0;32m   1143\u001B[0m         \u001B[38;5;124mf\u001B[39m\u001B[38;5;124m\"\u001B[39m\u001B[38;5;132;01m{\u001B[39;00mestimator_name\u001B[38;5;132;01m}\u001B[39;00m\u001B[38;5;124m requires y to be passed, but the target y is None\u001B[39m\u001B[38;5;124m\"\u001B[39m\n\u001B[0;32m   1144\u001B[0m     )\n\u001B[1;32m-> 1146\u001B[0m X \u001B[38;5;241m=\u001B[39m \u001B[43mcheck_array\u001B[49m\u001B[43m(\u001B[49m\n\u001B[0;32m   1147\u001B[0m \u001B[43m    \u001B[49m\u001B[43mX\u001B[49m\u001B[43m,\u001B[49m\n\u001B[0;32m   1148\u001B[0m \u001B[43m    \u001B[49m\u001B[43maccept_sparse\u001B[49m\u001B[38;5;241;43m=\u001B[39;49m\u001B[43maccept_sparse\u001B[49m\u001B[43m,\u001B[49m\n\u001B[0;32m   1149\u001B[0m \u001B[43m    \u001B[49m\u001B[43maccept_large_sparse\u001B[49m\u001B[38;5;241;43m=\u001B[39;49m\u001B[43maccept_large_sparse\u001B[49m\u001B[43m,\u001B[49m\n\u001B[0;32m   1150\u001B[0m \u001B[43m    \u001B[49m\u001B[43mdtype\u001B[49m\u001B[38;5;241;43m=\u001B[39;49m\u001B[43mdtype\u001B[49m\u001B[43m,\u001B[49m\n\u001B[0;32m   1151\u001B[0m \u001B[43m    \u001B[49m\u001B[43morder\u001B[49m\u001B[38;5;241;43m=\u001B[39;49m\u001B[43morder\u001B[49m\u001B[43m,\u001B[49m\n\u001B[0;32m   1152\u001B[0m \u001B[43m    \u001B[49m\u001B[43mcopy\u001B[49m\u001B[38;5;241;43m=\u001B[39;49m\u001B[43mcopy\u001B[49m\u001B[43m,\u001B[49m\n\u001B[0;32m   1153\u001B[0m \u001B[43m    \u001B[49m\u001B[43mforce_all_finite\u001B[49m\u001B[38;5;241;43m=\u001B[39;49m\u001B[43mforce_all_finite\u001B[49m\u001B[43m,\u001B[49m\n\u001B[0;32m   1154\u001B[0m \u001B[43m    \u001B[49m\u001B[43mensure_2d\u001B[49m\u001B[38;5;241;43m=\u001B[39;49m\u001B[43mensure_2d\u001B[49m\u001B[43m,\u001B[49m\n\u001B[0;32m   1155\u001B[0m \u001B[43m    \u001B[49m\u001B[43mallow_nd\u001B[49m\u001B[38;5;241;43m=\u001B[39;49m\u001B[43mallow_nd\u001B[49m\u001B[43m,\u001B[49m\n\u001B[0;32m   1156\u001B[0m \u001B[43m    \u001B[49m\u001B[43mensure_min_samples\u001B[49m\u001B[38;5;241;43m=\u001B[39;49m\u001B[43mensure_min_samples\u001B[49m\u001B[43m,\u001B[49m\n\u001B[0;32m   1157\u001B[0m \u001B[43m    \u001B[49m\u001B[43mensure_min_features\u001B[49m\u001B[38;5;241;43m=\u001B[39;49m\u001B[43mensure_min_features\u001B[49m\u001B[43m,\u001B[49m\n\u001B[0;32m   1158\u001B[0m \u001B[43m    \u001B[49m\u001B[43mestimator\u001B[49m\u001B[38;5;241;43m=\u001B[39;49m\u001B[43mestimator\u001B[49m\u001B[43m,\u001B[49m\n\u001B[0;32m   1159\u001B[0m \u001B[43m    \u001B[49m\u001B[43minput_name\u001B[49m\u001B[38;5;241;43m=\u001B[39;49m\u001B[38;5;124;43m\"\u001B[39;49m\u001B[38;5;124;43mX\u001B[39;49m\u001B[38;5;124;43m\"\u001B[39;49m\u001B[43m,\u001B[49m\n\u001B[0;32m   1160\u001B[0m \u001B[43m\u001B[49m\u001B[43m)\u001B[49m\n\u001B[0;32m   1162\u001B[0m y \u001B[38;5;241m=\u001B[39m _check_y(y, multi_output\u001B[38;5;241m=\u001B[39mmulti_output, y_numeric\u001B[38;5;241m=\u001B[39my_numeric, estimator\u001B[38;5;241m=\u001B[39mestimator)\n\u001B[0;32m   1164\u001B[0m check_consistent_length(X, y)\n",
      "File \u001B[1;32mc:\\users\\mohammad\\appdata\\local\\programs\\python\\python38\\lib\\site-packages\\sklearn\\utils\\validation.py:951\u001B[0m, in \u001B[0;36mcheck_array\u001B[1;34m(array, accept_sparse, accept_large_sparse, dtype, order, copy, force_all_finite, ensure_2d, allow_nd, ensure_min_samples, ensure_min_features, estimator, input_name)\u001B[0m\n\u001B[0;32m    946\u001B[0m     \u001B[38;5;28;01mraise\u001B[39;00m \u001B[38;5;167;01mValueError\u001B[39;00m(\n\u001B[0;32m    947\u001B[0m         \u001B[38;5;124m\"\u001B[39m\u001B[38;5;124mdtype=\u001B[39m\u001B[38;5;124m'\u001B[39m\u001B[38;5;124mnumeric\u001B[39m\u001B[38;5;124m'\u001B[39m\u001B[38;5;124m is not compatible with arrays of bytes/strings.\u001B[39m\u001B[38;5;124m\"\u001B[39m\n\u001B[0;32m    948\u001B[0m         \u001B[38;5;124m\"\u001B[39m\u001B[38;5;124mConvert your data to numeric values explicitly instead.\u001B[39m\u001B[38;5;124m\"\u001B[39m\n\u001B[0;32m    949\u001B[0m     )\n\u001B[0;32m    950\u001B[0m \u001B[38;5;28;01mif\u001B[39;00m \u001B[38;5;129;01mnot\u001B[39;00m allow_nd \u001B[38;5;129;01mand\u001B[39;00m array\u001B[38;5;241m.\u001B[39mndim \u001B[38;5;241m>\u001B[39m\u001B[38;5;241m=\u001B[39m \u001B[38;5;241m3\u001B[39m:\n\u001B[1;32m--> 951\u001B[0m     \u001B[38;5;28;01mraise\u001B[39;00m \u001B[38;5;167;01mValueError\u001B[39;00m(\n\u001B[0;32m    952\u001B[0m         \u001B[38;5;124m\"\u001B[39m\u001B[38;5;124mFound array with dim \u001B[39m\u001B[38;5;132;01m%d\u001B[39;00m\u001B[38;5;124m. \u001B[39m\u001B[38;5;132;01m%s\u001B[39;00m\u001B[38;5;124m expected <= 2.\u001B[39m\u001B[38;5;124m\"\u001B[39m\n\u001B[0;32m    953\u001B[0m         \u001B[38;5;241m%\u001B[39m (array\u001B[38;5;241m.\u001B[39mndim, estimator_name)\n\u001B[0;32m    954\u001B[0m     )\n\u001B[0;32m    956\u001B[0m \u001B[38;5;28;01mif\u001B[39;00m force_all_finite:\n\u001B[0;32m    957\u001B[0m     _assert_all_finite(\n\u001B[0;32m    958\u001B[0m         array,\n\u001B[0;32m    959\u001B[0m         input_name\u001B[38;5;241m=\u001B[39minput_name,\n\u001B[0;32m    960\u001B[0m         estimator_name\u001B[38;5;241m=\u001B[39mestimator_name,\n\u001B[0;32m    961\u001B[0m         allow_nan\u001B[38;5;241m=\u001B[39mforce_all_finite \u001B[38;5;241m==\u001B[39m \u001B[38;5;124m\"\u001B[39m\u001B[38;5;124mallow-nan\u001B[39m\u001B[38;5;124m\"\u001B[39m,\n\u001B[0;32m    962\u001B[0m     )\n",
      "\u001B[1;31mValueError\u001B[0m: Found array with dim 3. KNeighborsClassifier expected <= 2."
     ]
    }
   ],
   "source": [
    "from sklearn.neighbors import KNeighborsClassifier\n",
    "knn = KNeighborsClassifier()\n",
    "knn.fit(X_train,y_train)"
   ],
   "metadata": {
    "collapsed": false,
    "ExecuteTime": {
     "end_time": "2024-04-22T14:52:32.424261900Z",
     "start_time": "2024-04-22T14:52:31.725815100Z"
    }
   },
   "id": "99dd21f12adfc2f"
  },
  {
   "cell_type": "code",
   "execution_count": null,
   "outputs": [],
   "source": [],
   "metadata": {
    "collapsed": false
   },
   "id": "b64ed3540a10569f"
  },
  {
   "cell_type": "code",
   "execution_count": null,
   "outputs": [],
   "source": [],
   "metadata": {
    "collapsed": false
   },
   "id": "b613fd5bcf6b8985"
  },
  {
   "cell_type": "code",
   "execution_count": null,
   "outputs": [],
   "source": [],
   "metadata": {
    "collapsed": false
   },
   "id": "68b06b3f83885b95"
  },
  {
   "cell_type": "code",
   "execution_count": 76,
   "outputs": [
    {
     "ename": "AttributeError",
     "evalue": "'Sequential' object has no attribute 'wv'",
     "output_type": "error",
     "traceback": [
      "\u001B[1;31m---------------------------------------------------------------------------\u001B[0m",
      "\u001B[1;31mAttributeError\u001B[0m                            Traceback (most recent call last)",
      "Cell \u001B[1;32mIn[76], line 1\u001B[0m\n\u001B[1;32m----> 1\u001B[0m number \u001B[38;5;241m=\u001B[39m \u001B[38;5;28mlen\u001B[39m(\u001B[38;5;28mlist\u001B[39m(\u001B[43mmodel\u001B[49m\u001B[38;5;241;43m.\u001B[39;49m\u001B[43mwv\u001B[49m\u001B[38;5;241m.\u001B[39mvocab))\n",
      "\u001B[1;31mAttributeError\u001B[0m: 'Sequential' object has no attribute 'wv'"
     ]
    }
   ],
   "source": [
    "number = len(list(model.wv.vocab))"
   ],
   "metadata": {
    "collapsed": false,
    "ExecuteTime": {
     "end_time": "2024-04-22T14:50:53.833173200Z",
     "start_time": "2024-04-22T14:50:53.802167900Z"
    }
   },
   "id": "361529d56709601"
  },
  {
   "cell_type": "code",
   "execution_count": 77,
   "outputs": [
    {
     "data": {
      "text/plain": "964"
     },
     "execution_count": 77,
     "metadata": {},
     "output_type": "execute_result"
    }
   ],
   "source": [
    "number"
   ],
   "metadata": {
    "collapsed": false,
    "ExecuteTime": {
     "end_time": "2024-04-22T14:50:54.079356600Z",
     "start_time": "2024-04-22T14:50:54.047395100Z"
    }
   },
   "id": "2479ddfa8af38662"
  },
  {
   "cell_type": "code",
   "execution_count": 72,
   "outputs": [],
   "source": [
    "from keras.models import Sequential\n",
    "from keras.layers import Embedding,Dense,Conv1D\n",
    "import keras"
   ],
   "metadata": {
    "collapsed": false,
    "ExecuteTime": {
     "end_time": "2024-04-22T14:49:40.876142300Z",
     "start_time": "2024-04-22T14:49:40.823062900Z"
    }
   },
   "id": "b5ddb482d64b5b33"
  },
  {
   "cell_type": "code",
   "execution_count": 93,
   "outputs": [],
   "source": [
    "model = Sequential()\n",
    "# model.add(Embedding(input_dim=(number+1),output_dim=50))\n",
    "model.add(Conv1D(filters=8,kernel_size=3,strides=1,padding=\"same\",input_shape=(300,100)))\n",
    "model.add(Dense(units=64,activation=\"relu\"))\n",
    "model.add(Dense(units=64,activation=\"relu\"))\n",
    "model.add(Dense(units=32,activation=\"relu\"))\n",
    "model.add(Dense(units=1,activation=\"sigmoid\"))"
   ],
   "metadata": {
    "collapsed": false,
    "ExecuteTime": {
     "end_time": "2024-04-22T14:55:46.316466800Z",
     "start_time": "2024-04-22T14:55:46.208959300Z"
    }
   },
   "id": "f1c4acb3db56b934"
  },
  {
   "cell_type": "code",
   "execution_count": 94,
   "outputs": [],
   "source": [
    "#compile\n",
    "model.compile(\n",
    "    metrics = keras.metrics.BinaryAccuracy(),\n",
    "    optimizer= keras.optimizers.Adam(learning_rate=0.0001),\n",
    "    loss=keras.losses.BinaryCrossentropy()\n",
    "\n",
    ")"
   ],
   "metadata": {
    "collapsed": false,
    "ExecuteTime": {
     "end_time": "2024-04-22T14:55:46.408822Z",
     "start_time": "2024-04-22T14:55:46.393472800Z"
    }
   },
   "id": "ee9144f6e45dc21"
  },
  {
   "cell_type": "code",
   "execution_count": 95,
   "outputs": [
    {
     "name": "stdout",
     "output_type": "stream",
     "text": [
      "Epoch 1/5\n",
      "1/1 [==============================] - 1s 1s/step - loss: 0.7128 - binary_accuracy: 0.0000e+00 - val_loss: 0.7089 - val_binary_accuracy: 0.0000e+00\n",
      "Epoch 2/5\n",
      "1/1 [==============================] - 0s 34ms/step - loss: 0.7112 - binary_accuracy: 0.0000e+00 - val_loss: 0.7074 - val_binary_accuracy: 0.0000e+00\n",
      "Epoch 3/5\n",
      "1/1 [==============================] - 0s 36ms/step - loss: 0.7098 - binary_accuracy: 0.0000e+00 - val_loss: 0.7058 - val_binary_accuracy: 0.0000e+00\n",
      "Epoch 4/5\n",
      "1/1 [==============================] - 0s 33ms/step - loss: 0.7083 - binary_accuracy: 0.0000e+00 - val_loss: 0.7043 - val_binary_accuracy: 0.0000e+00\n",
      "Epoch 5/5\n",
      "1/1 [==============================] - 0s 34ms/step - loss: 0.7069 - binary_accuracy: 0.0000e+00 - val_loss: 0.7029 - val_binary_accuracy: 0.0000e+00\n"
     ]
    },
    {
     "data": {
      "text/plain": "<keras.src.callbacks.History at 0x1da11971910>"
     },
     "execution_count": 95,
     "metadata": {},
     "output_type": "execute_result"
    }
   ],
   "source": [
    "model.fit(X_train,y_train,epochs=5,verbose=1,validation_split=0.33)\n"
   ],
   "metadata": {
    "collapsed": false,
    "ExecuteTime": {
     "end_time": "2024-04-22T14:55:48.713277100Z",
     "start_time": "2024-04-22T14:55:47.281380500Z"
    }
   },
   "id": "b323246e3274741b"
  },
  {
   "cell_type": "code",
   "execution_count": null,
   "outputs": [],
   "source": [],
   "metadata": {
    "collapsed": false,
    "ExecuteTime": {
     "start_time": "2024-04-22T14:49:41.201753900Z"
    }
   },
   "id": "f19488fb03a6135a"
  }
 ],
 "metadata": {
  "kernelspec": {
   "display_name": "Python 3",
   "language": "python",
   "name": "python3"
  },
  "language_info": {
   "codemirror_mode": {
    "name": "ipython",
    "version": 2
   },
   "file_extension": ".py",
   "mimetype": "text/x-python",
   "name": "python",
   "nbconvert_exporter": "python",
   "pygments_lexer": "ipython2",
   "version": "2.7.6"
  }
 },
 "nbformat": 4,
 "nbformat_minor": 5
}
